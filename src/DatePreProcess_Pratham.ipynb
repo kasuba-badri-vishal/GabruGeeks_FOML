{
 "cells": [
  {
   "cell_type": "code",
   "execution_count": 279,
   "id": "3ec48078",
   "metadata": {},
   "outputs": [],
   "source": [
    "import numpy as np\n",
    "import pandas as pd\n",
    "import matplotlib.pyplot as plt\n",
    "import time\n",
    "import re\n",
    "import nltk\n",
    "from nltk.corpus import stopwords\n",
    "from nltk.tokenize import word_tokenize"
   ]
  },
  {
   "cell_type": "code",
   "execution_count": 280,
   "id": "8fda8632",
   "metadata": {},
   "outputs": [
    {
     "name": "stderr",
     "output_type": "stream",
     "text": [
      "[nltk_data] Downloading package stopwords to\n",
      "[nltk_data]     /home/prathamy/nltk_data...\n",
      "[nltk_data]   Package stopwords is already up-to-date!\n"
     ]
    },
    {
     "data": {
      "text/plain": [
       "True"
      ]
     },
     "execution_count": 280,
     "metadata": {},
     "output_type": "execute_result"
    }
   ],
   "source": [
    "nltk.download('stopwords')"
   ]
  },
  {
   "cell_type": "code",
   "execution_count": 281,
   "id": "2bfd03e0",
   "metadata": {},
   "outputs": [
    {
     "name": "stderr",
     "output_type": "stream",
     "text": [
      "[nltk_data] Downloading package punkt to /home/prathamy/nltk_data...\n",
      "[nltk_data]   Package punkt is already up-to-date!\n"
     ]
    },
    {
     "data": {
      "text/plain": [
       "True"
      ]
     },
     "execution_count": 281,
     "metadata": {},
     "output_type": "execute_result"
    }
   ],
   "source": [
    "nltk.download('punkt')"
   ]
  },
  {
   "cell_type": "code",
   "execution_count": 282,
   "id": "311695ac",
   "metadata": {},
   "outputs": [],
   "source": [
    "df=pd.read_csv('/home/prathamy/Documents/Documents/ACADS/SEM1/FML/project/train.csv',nrows=10000)\n",
    "title=df['Title']\n",
    "body=df['Body']\n",
    "tags=df['Tags']"
   ]
  },
  {
   "cell_type": "code",
   "execution_count": 283,
   "id": "b5fb4f51",
   "metadata": {},
   "outputs": [],
   "source": [
    "def remove_html_tags(text):\n",
    "    \"\"\"Remove html tags from a string\"\"\"\n",
    "    clean = re.compile('<.*?>')\n",
    "    return re.sub(clean,'', text)"
   ]
  },
  {
   "cell_type": "code",
   "execution_count": 284,
   "id": "e18a01c7",
   "metadata": {},
   "outputs": [],
   "source": [
    "def remove_n(text):\n",
    "    \"\"\"Remove \\n tags from a string\"\"\"\n",
    "    clean1 = re.compile('\\n')\n",
    "    return re.sub(clean1,'', text)"
   ]
  },
  {
   "cell_type": "code",
   "execution_count": 285,
   "id": "8cd802ad",
   "metadata": {},
   "outputs": [],
   "source": [
    "def lower_text(text):\n",
    "    return text.lower()"
   ]
  },
  {
   "cell_type": "code",
   "execution_count": 286,
   "id": "2f772bd9",
   "metadata": {},
   "outputs": [],
   "source": [
    "def remove_spec_char(text):\n",
    "    return re.sub('[^A-Za-z ]+','', text)"
   ]
  },
  {
   "cell_type": "code",
   "execution_count": 287,
   "id": "b01e64a7",
   "metadata": {},
   "outputs": [],
   "source": [
    "def stringToTokens(text):\n",
    "    return word_tokenize(text)"
   ]
  },
  {
   "cell_type": "code",
   "execution_count": 314,
   "id": "5e414126",
   "metadata": {},
   "outputs": [],
   "source": [
    "def Filtered_Tokens(text):\n",
    "    text_token=stringToTokens(text)\n",
    "#     print(text_token)\n",
    "    filtered_sentence=[]\n",
    "    for w in text_token:\n",
    "        if w not in stop_words or w=='c':\n",
    "            filtered_sentence.append(w)\n",
    "    return filtered_sentence"
   ]
  },
  {
   "cell_type": "code",
   "execution_count": 298,
   "id": "2299eb57",
   "metadata": {},
   "outputs": [],
   "source": [
    "stop_words = set(stopwords.words('english'))"
   ]
  },
  {
   "cell_type": "code",
   "execution_count": 316,
   "id": "35f52afa",
   "metadata": {
    "scrolled": true
   },
   "outputs": [
    {
     "name": "stdout",
     "output_type": "stream",
     "text": [
      "<p>I've decided to convert a Windows Phone 7 app that fetches an XML feed and then parses it to an asp.net web app, using Visual Web Developer Express. I figure since the code already works for WP7, it should be a matter of mostly copying and pasting it for the C# code behind. </p>\n",
      "\n",
      "<pre><code>HttpWebRequest request = HttpWebRequest.CreateHttp(\"http://webservices.nextbus.com/service/publicXMLFeed?command=routeConfig&amp;a=sf-muni&amp;r=\" + line1);\n",
      "</code></pre>\n",
      "\n",
      "<p>That's the first line of code from my WP7 app that fetches the XML feed, but I can't even get HttpWebRequest to work in Visual Web Developer like that. Intellisense shows a create and createdefault, but no CreateHttp like there was in Windows Phone 7. I just need to figure out how to fetch the page, I assume the parsing will be the same as on my phone app. Any help?</p>\n",
      "\n",
      "<p>Thanks,</p>\n",
      "\n",
      "<p>Amanda</p>\n",
      "\n"
     ]
    }
   ],
   "source": [
    "# print(df.head(3))\n",
    "x=body[7]\n",
    "print(x)"
   ]
  },
  {
   "cell_type": "code",
   "execution_count": 317,
   "id": "b218309c",
   "metadata": {},
   "outputs": [
    {
     "name": "stdout",
     "output_type": "stream",
     "text": [
      "I've decided to convert a Windows Phone 7 app that fetches an XML feed and then parses it to an asp.net web app, using Visual Web Developer Express. I figure since the code already works for WP7, it should be a matter of mostly copying and pasting it for the C# code behind. HttpWebRequest request = HttpWebRequest.CreateHttp(\"http://webservices.nextbus.com/service/publicXMLFeed?command=routeConfig&amp;a=sf-muni&amp;r=\" + line1);That's the first line of code from my WP7 app that fetches the XML feed, but I can't even get HttpWebRequest to work in Visual Web Developer like that. Intellisense shows a create and createdefault, but no CreateHttp like there was in Windows Phone 7. I just need to figure out how to fetch the page, I assume the parsing will be the same as on my phone app. Any help?Thanks,Amanda\n"
     ]
    }
   ],
   "source": [
    "cleanedText=remove_html_tags(x)\n",
    "cleanedText1=remove_n(cleanedText)\n",
    "print(cleanedText1)"
   ]
  },
  {
   "cell_type": "code",
   "execution_count": 318,
   "id": "50ef75c7",
   "metadata": {},
   "outputs": [
    {
     "data": {
      "text/plain": [
       "'i\\'ve decided to convert a windows phone 7 app that fetches an xml feed and then parses it to an asp.net web app, using visual web developer express. i figure since the code already works for wp7, it should be a matter of mostly copying and pasting it for the c# code behind. httpwebrequest request = httpwebrequest.createhttp(\"http://webservices.nextbus.com/service/publicxmlfeed?command=routeconfig&amp;a=sf-muni&amp;r=\" + line1);that\\'s the first line of code from my wp7 app that fetches the xml feed, but i can\\'t even get httpwebrequest to work in visual web developer like that. intellisense shows a create and createdefault, but no createhttp like there was in windows phone 7. i just need to figure out how to fetch the page, i assume the parsing will be the same as on my phone app. any help?thanks,amanda'"
      ]
     },
     "execution_count": 318,
     "metadata": {},
     "output_type": "execute_result"
    }
   ],
   "source": [
    "cleanedText2=lower_text(cleanedText1)\n",
    "cleanedText2"
   ]
  },
  {
   "cell_type": "code",
   "execution_count": 319,
   "id": "783bb9bb",
   "metadata": {},
   "outputs": [
    {
     "data": {
      "text/plain": [
       "'ive decided to convert a windows phone  app that fetches an xml feed and then parses it to an aspnet web app using visual web developer express i figure since the code already works for wp it should be a matter of mostly copying and pasting it for the c code behind httpwebrequest request  httpwebrequestcreatehttphttpwebservicesnextbuscomservicepublicxmlfeedcommandrouteconfigampasfmuniampr  linethats the first line of code from my wp app that fetches the xml feed but i cant even get httpwebrequest to work in visual web developer like that intellisense shows a create and createdefault but no createhttp like there was in windows phone  i just need to figure out how to fetch the page i assume the parsing will be the same as on my phone app any helpthanksamanda'"
      ]
     },
     "execution_count": 319,
     "metadata": {},
     "output_type": "execute_result"
    }
   ],
   "source": [
    "cleanedText3 = remove_spec_char(cleanedText2)\n",
    "cleanedText3"
   ]
  },
  {
   "cell_type": "code",
   "execution_count": 320,
   "id": "3c42731d",
   "metadata": {},
   "outputs": [
    {
     "data": {
      "text/plain": [
       "['ive',\n",
       " 'decided',\n",
       " 'convert',\n",
       " 'windows',\n",
       " 'phone',\n",
       " 'app',\n",
       " 'fetches',\n",
       " 'xml',\n",
       " 'feed',\n",
       " 'parses',\n",
       " 'aspnet',\n",
       " 'web',\n",
       " 'app',\n",
       " 'using',\n",
       " 'visual',\n",
       " 'web',\n",
       " 'developer',\n",
       " 'express',\n",
       " 'figure',\n",
       " 'since',\n",
       " 'code',\n",
       " 'already',\n",
       " 'works',\n",
       " 'wp',\n",
       " 'matter',\n",
       " 'mostly',\n",
       " 'copying',\n",
       " 'pasting',\n",
       " 'c',\n",
       " 'code',\n",
       " 'behind',\n",
       " 'httpwebrequest',\n",
       " 'request',\n",
       " 'httpwebrequestcreatehttphttpwebservicesnextbuscomservicepublicxmlfeedcommandrouteconfigampasfmuniampr',\n",
       " 'linethats',\n",
       " 'first',\n",
       " 'line',\n",
       " 'code',\n",
       " 'wp',\n",
       " 'app',\n",
       " 'fetches',\n",
       " 'xml',\n",
       " 'feed',\n",
       " 'cant',\n",
       " 'even',\n",
       " 'get',\n",
       " 'httpwebrequest',\n",
       " 'work',\n",
       " 'visual',\n",
       " 'web',\n",
       " 'developer',\n",
       " 'like',\n",
       " 'intellisense',\n",
       " 'shows',\n",
       " 'create',\n",
       " 'createdefault',\n",
       " 'createhttp',\n",
       " 'like',\n",
       " 'windows',\n",
       " 'phone',\n",
       " 'need',\n",
       " 'figure',\n",
       " 'fetch',\n",
       " 'page',\n",
       " 'assume',\n",
       " 'parsing',\n",
       " 'phone',\n",
       " 'app',\n",
       " 'helpthanksamanda']"
      ]
     },
     "execution_count": 320,
     "metadata": {},
     "output_type": "execute_result"
    }
   ],
   "source": [
    "# cleanedText3\n",
    "filtered_tokens=Filtered_Tokens(cleanedText3)\n",
    "filtered_tokens"
   ]
  }
 ],
 "metadata": {
  "kernelspec": {
   "display_name": "Python 3 (ipykernel)",
   "language": "python",
   "name": "python3"
  },
  "language_info": {
   "codemirror_mode": {
    "name": "ipython",
    "version": 3
   },
   "file_extension": ".py",
   "mimetype": "text/x-python",
   "name": "python",
   "nbconvert_exporter": "python",
   "pygments_lexer": "ipython3",
   "version": "3.9.12"
  }
 },
 "nbformat": 4,
 "nbformat_minor": 5
}
