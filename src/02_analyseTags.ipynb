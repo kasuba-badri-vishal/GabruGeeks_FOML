{
 "cells": [
  {
   "cell_type": "markdown",
   "id": "5e281a72",
   "metadata": {},
   "source": [
    "### Import Libraries"
   ]
  },
  {
   "cell_type": "code",
   "execution_count": 1,
   "id": "17bb08e3",
   "metadata": {},
   "outputs": [],
   "source": [
    "import pandas as pd\n",
    "import re\n",
    "import numpy as np\n",
    "import matplotlib.pyplot as plt\n",
    "from collections import Counter\n"
   ]
  },
  {
   "cell_type": "markdown",
   "id": "b74d7714",
   "metadata": {},
   "source": [
    "### Import Data"
   ]
  },
  {
   "cell_type": "code",
   "execution_count": 2,
   "id": "36863d76",
   "metadata": {},
   "outputs": [],
   "source": [
    "df = pd.read_csv('./../data/processed/train.csv')"
   ]
  },
  {
   "cell_type": "markdown",
   "id": "95b531ca",
   "metadata": {},
   "source": [
    "### Analyse Data"
   ]
  },
  {
   "cell_type": "code",
   "execution_count": null,
   "id": "c6a31165",
   "metadata": {},
   "outputs": [],
   "source": [
    "df.head()"
   ]
  },
  {
   "cell_type": "code",
   "execution_count": null,
   "id": "c6d194d8",
   "metadata": {},
   "outputs": [],
   "source": [
    "# Columns Title\n",
    "df.columns"
   ]
  },
  {
   "cell_type": "code",
   "execution_count": null,
   "id": "9e237a65",
   "metadata": {},
   "outputs": [],
   "source": [
    "# Lets see body \n",
    "df.loc[2,'Body']"
   ]
  },
  {
   "cell_type": "code",
   "execution_count": null,
   "id": "ca4b089a",
   "metadata": {},
   "outputs": [],
   "source": [
    "# Lets see body \n",
    "df.loc[2,'Tags']"
   ]
  },
  {
   "cell_type": "markdown",
   "id": "5050ea9f",
   "metadata": {},
   "source": [
    "### Make a Kaapi"
   ]
  },
  {
   "cell_type": "code",
   "execution_count": 3,
   "id": "d5ec887b",
   "metadata": {},
   "outputs": [],
   "source": [
    "# Data bahut bara hai, kuch change hua toh we need original\n",
    "df_original = df.copy()"
   ]
  },
  {
   "cell_type": "code",
   "execution_count": 4,
   "id": "882b2086",
   "metadata": {},
   "outputs": [
    {
     "data": {
      "text/html": [
       "<div>\n",
       "<style scoped>\n",
       "    .dataframe tbody tr th:only-of-type {\n",
       "        vertical-align: middle;\n",
       "    }\n",
       "\n",
       "    .dataframe tbody tr th {\n",
       "        vertical-align: top;\n",
       "    }\n",
       "\n",
       "    .dataframe thead th {\n",
       "        text-align: right;\n",
       "    }\n",
       "</style>\n",
       "<table border=\"1\" class=\"dataframe\">\n",
       "  <thead>\n",
       "    <tr style=\"text-align: right;\">\n",
       "      <th></th>\n",
       "      <th>Title</th>\n",
       "      <th>Body</th>\n",
       "      <th>Tags</th>\n",
       "    </tr>\n",
       "  </thead>\n",
       "  <tbody>\n",
       "    <tr>\n",
       "      <th>0</th>\n",
       "      <td>How to check if an uploaded file is an image w...</td>\n",
       "      <td>&lt;p&gt;I'd like to check if an uploaded file is an...</td>\n",
       "      <td>php image-processing file-upload upload mime-t...</td>\n",
       "    </tr>\n",
       "    <tr>\n",
       "      <th>1</th>\n",
       "      <td>How can I prevent firefox from closing when I ...</td>\n",
       "      <td>&lt;p&gt;In my favorite editor (vim), I regularly us...</td>\n",
       "      <td>firefox</td>\n",
       "    </tr>\n",
       "    <tr>\n",
       "      <th>2</th>\n",
       "      <td>R Error Invalid type (list) for variable</td>\n",
       "      <td>&lt;p&gt;I am import matlab file and construct a dat...</td>\n",
       "      <td>r matlab machine-learning</td>\n",
       "    </tr>\n",
       "    <tr>\n",
       "      <th>3</th>\n",
       "      <td>How do I replace special characters in a URL?</td>\n",
       "      <td>&lt;p&gt;This is probably very simple, but I simply ...</td>\n",
       "      <td>c# url encoding</td>\n",
       "    </tr>\n",
       "    <tr>\n",
       "      <th>4</th>\n",
       "      <td>How to modify whois contact details?</td>\n",
       "      <td>&lt;pre&gt;&lt;code&gt;function modify(.......)\\n{\\n  $mco...</td>\n",
       "      <td>php api file-get-contents</td>\n",
       "    </tr>\n",
       "    <tr>\n",
       "      <th>...</th>\n",
       "      <td>...</td>\n",
       "      <td>...</td>\n",
       "      <td>...</td>\n",
       "    </tr>\n",
       "    <tr>\n",
       "      <th>4158220</th>\n",
       "      <td>Running NSTimer at 0.03seconds repeating - inc...</td>\n",
       "      <td>&lt;pre&gt;&lt;code&gt;        recordingTimer = [NSTimer s...</td>\n",
       "      <td>objective-c nstimer</td>\n",
       "    </tr>\n",
       "    <tr>\n",
       "      <th>4158221</th>\n",
       "      <td>Small Business Server 2008 Not Responding to E...</td>\n",
       "      <td>&lt;p&gt;I have just deployed SBS 2008 Standard and ...</td>\n",
       "      <td>windows-server-2008 dns windows-sbs-2008 small...</td>\n",
       "    </tr>\n",
       "    <tr>\n",
       "      <th>4158222</th>\n",
       "      <td>rdiff-backup changes permissions of source dir...</td>\n",
       "      <td>&lt;p&gt;I recently found rdiff-backup which seems t...</td>\n",
       "      <td>backup rsync rdiff-backup</td>\n",
       "    </tr>\n",
       "    <tr>\n",
       "      <th>4158223</th>\n",
       "      <td>Update database with big CSV</td>\n",
       "      <td>&lt;p&gt;I need every day update ~ 10.000 items in m...</td>\n",
       "      <td>php sql query csv phpmyadmin</td>\n",
       "    </tr>\n",
       "    <tr>\n",
       "      <th>4158224</th>\n",
       "      <td>Decreasing sequence of closed set in a metric ...</td>\n",
       "      <td>&lt;p&gt;Let $\\{E_n\\}$ be a collection of bounded an...</td>\n",
       "      <td>general-topology metric-spaces</td>\n",
       "    </tr>\n",
       "  </tbody>\n",
       "</table>\n",
       "<p>4158225 rows × 3 columns</p>\n",
       "</div>"
      ],
      "text/plain": [
       "                                                     Title  \\\n",
       "0        How to check if an uploaded file is an image w...   \n",
       "1        How can I prevent firefox from closing when I ...   \n",
       "2                 R Error Invalid type (list) for variable   \n",
       "3            How do I replace special characters in a URL?   \n",
       "4                     How to modify whois contact details?   \n",
       "...                                                    ...   \n",
       "4158220  Running NSTimer at 0.03seconds repeating - inc...   \n",
       "4158221  Small Business Server 2008 Not Responding to E...   \n",
       "4158222  rdiff-backup changes permissions of source dir...   \n",
       "4158223                       Update database with big CSV   \n",
       "4158224  Decreasing sequence of closed set in a metric ...   \n",
       "\n",
       "                                                      Body  \\\n",
       "0        <p>I'd like to check if an uploaded file is an...   \n",
       "1        <p>In my favorite editor (vim), I regularly us...   \n",
       "2        <p>I am import matlab file and construct a dat...   \n",
       "3        <p>This is probably very simple, but I simply ...   \n",
       "4        <pre><code>function modify(.......)\\n{\\n  $mco...   \n",
       "...                                                    ...   \n",
       "4158220  <pre><code>        recordingTimer = [NSTimer s...   \n",
       "4158221  <p>I have just deployed SBS 2008 Standard and ...   \n",
       "4158222  <p>I recently found rdiff-backup which seems t...   \n",
       "4158223  <p>I need every day update ~ 10.000 items in m...   \n",
       "4158224  <p>Let $\\{E_n\\}$ be a collection of bounded an...   \n",
       "\n",
       "                                                      Tags  \n",
       "0        php image-processing file-upload upload mime-t...  \n",
       "1                                                  firefox  \n",
       "2                                r matlab machine-learning  \n",
       "3                                          c# url encoding  \n",
       "4                                php api file-get-contents  \n",
       "...                                                    ...  \n",
       "4158220                                objective-c nstimer  \n",
       "4158221  windows-server-2008 dns windows-sbs-2008 small...  \n",
       "4158222                          backup rsync rdiff-backup  \n",
       "4158223                       php sql query csv phpmyadmin  \n",
       "4158224                     general-topology metric-spaces  \n",
       "\n",
       "[4158225 rows x 3 columns]"
      ]
     },
     "execution_count": 4,
     "metadata": {},
     "output_type": "execute_result"
    }
   ],
   "source": [
    "df_original"
   ]
  },
  {
   "cell_type": "code",
   "execution_count": 5,
   "id": "4484f30b",
   "metadata": {},
   "outputs": [],
   "source": [
    "# Reset Point  \n",
    "df = df_original.copy()\n"
   ]
  },
  {
   "cell_type": "code",
   "execution_count": null,
   "id": "d4a2aba9",
   "metadata": {},
   "outputs": [],
   "source": [
    "df"
   ]
  },
  {
   "cell_type": "markdown",
   "id": "4fa8fc38",
   "metadata": {},
   "source": [
    "### Tags Analysis"
   ]
  },
  {
   "cell_type": "code",
   "execution_count": 6,
   "id": "8336ce3e",
   "metadata": {},
   "outputs": [],
   "source": [
    "def dropnantags(dataframe):\n",
    "    \n",
    "    \"\"\"\n",
    "    Arguments \n",
    "        dataframe : Pandas dataFrame\n",
    "    Function:\n",
    "        Removes nan values present as float in the dataset\n",
    "        Does inplce operation on given dataset\n",
    "    Returns\n",
    "        Nothing\n",
    "    \n",
    "    \"\"\"\n",
    "    \n",
    "    tags = df.loc[:, 'Tags']\n",
    "    tags = tags.to_numpy()\n",
    "    \n",
    "    nonstrArr = []                            # Non String array\n",
    "    for index,tag in enumerate(tags):\n",
    "        if not(isinstance(tag, str)):         # If data type is not a string\n",
    "            nonstrArr.append([index,tag])\n",
    "    \n",
    "    nonstrArr = np.array(nonstrArr)           # change to numpy array\n",
    "    nonstrArr = nonstrArr[:,0]\n",
    "    to_remove =list(map(lambda x: int(x) ,nonstrArr)) # typecast as int\n",
    "    \n",
    "    #print(to_remove)\n",
    "    \n",
    "    dataframe.drop(to_remove, axis=0, inplace=True) \n",
    "    dataframe.reset_index(drop=True, inplace=True)\n",
    "    \n",
    "    \n",
    "    "
   ]
  },
  {
   "cell_type": "code",
   "execution_count": 7,
   "id": "eca72fc0",
   "metadata": {},
   "outputs": [
    {
     "name": "stdout",
     "output_type": "stream",
     "text": [
      "[848756, 969194, 1343808, 1716218, 2231040, 2631436, 3216032]\n"
     ]
    }
   ],
   "source": [
    "# Drop nan values\n",
    "dropnantags(df)"
   ]
  },
  {
   "cell_type": "code",
   "execution_count": 8,
   "id": "39a5d7a6",
   "metadata": {},
   "outputs": [],
   "source": [
    "def topn_tags(dataFrame ,n):\n",
    "    \"\"\"\n",
    "    This function returns a list of top n tags \n",
    "    :param dataFrame: pandas dataFrame\n",
    "    :param n: integer\n",
    "    :returns: list of strings\n",
    "    \"\"\"\n",
    "\n",
    "\n",
    "    dataFrame['Tags'] = dataFrame['Tags'].apply(lambda x : x.split(' '))\n",
    "    \n",
    "    counter = Counter()\n",
    "    _ = df['Tags'].apply(counter.update)\n",
    "    \n",
    "    unique_tags = counter.most_common(n)       # Top n tags\n",
    "    tags_df = pd.DataFrame(unique_tags, columns=['Tags','Freq'])\n",
    "    unique_tags = tags_df.Tags.tolist()\n",
    "    \n",
    "    return unique_tags"
   ]
  },
  {
   "cell_type": "code",
   "execution_count": 9,
   "id": "c94e1e7d",
   "metadata": {},
   "outputs": [],
   "source": [
    "un = topn_tags(df,100)"
   ]
  },
  {
   "cell_type": "markdown",
   "id": "991e9b94",
   "metadata": {},
   "source": [
    "___"
   ]
  },
  {
   "cell_type": "code",
   "execution_count": 28,
   "id": "38b2ae43",
   "metadata": {},
   "outputs": [],
   "source": [
    "count = 0\n",
    "for t in tags:\n",
    "    if(len(t)==3):\n",
    "        count +=1"
   ]
  },
  {
   "cell_type": "code",
   "execution_count": 29,
   "id": "e3f3d42e",
   "metadata": {},
   "outputs": [
    {
     "data": {
      "text/plain": [
       "303813"
      ]
     },
     "execution_count": 29,
     "metadata": {},
     "output_type": "execute_result"
    }
   ],
   "source": [
    "count\n"
   ]
  }
 ],
 "metadata": {
  "kernelspec": {
   "display_name": "Python 3 (ipykernel)",
   "language": "python",
   "name": "python3"
  },
  "language_info": {
   "codemirror_mode": {
    "name": "ipython",
    "version": 3
   },
   "file_extension": ".py",
   "mimetype": "text/x-python",
   "name": "python",
   "nbconvert_exporter": "python",
   "pygments_lexer": "ipython3",
   "version": "3.9.12"
  }
 },
 "nbformat": 4,
 "nbformat_minor": 5
}
