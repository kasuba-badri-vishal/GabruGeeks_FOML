{
 "cells": [
  {
   "cell_type": "markdown",
   "id": "6f62b131",
   "metadata": {},
   "source": [
    "### Imports"
   ]
  },
  {
   "cell_type": "code",
   "execution_count": 1,
   "id": "5d82059b",
   "metadata": {},
   "outputs": [],
   "source": [
    "import pandas as pd"
   ]
  },
  {
   "cell_type": "markdown",
   "id": "c4bcd81e",
   "metadata": {},
   "source": [
    "### Load Data"
   ]
  },
  {
   "cell_type": "code",
   "execution_count": 2,
   "id": "fe88ccd5",
   "metadata": {},
   "outputs": [],
   "source": [
    "df = pd.read_csv('./../data/facebook-recruiting-iii-keyword-extraction/Train.csv') # 6034195"
   ]
  },
  {
   "cell_type": "markdown",
   "id": "0aed6e4e",
   "metadata": {},
   "source": [
    "### Processing"
   ]
  },
  {
   "cell_type": "code",
   "execution_count": 3,
   "id": "b1df7e3b",
   "metadata": {},
   "outputs": [],
   "source": [
    "### Count of Unique value\n",
    "# df = df.drop_duplicates() # 6034195\n",
    "# df['Title'].nunique() # 4125233\n",
    "# df['Body'].nunique()  # 4154381"
   ]
  },
  {
   "cell_type": "code",
   "execution_count": 4,
   "id": "a3700e4c",
   "metadata": {},
   "outputs": [],
   "source": [
    "x = df.drop_duplicates(['Body','Title'])  # 4158225\n",
    "x = x[['Title', 'Body', 'Tags']]"
   ]
  },
  {
   "cell_type": "markdown",
   "id": "4f4c4be3",
   "metadata": {},
   "source": [
    "### Save data"
   ]
  },
  {
   "cell_type": "code",
   "execution_count": 5,
   "id": "1714665d",
   "metadata": {},
   "outputs": [],
   "source": [
    "x.to_csv('./../data/processed/train.csv', index=False)"
   ]
  }
 ],
 "metadata": {
  "kernelspec": {
   "display_name": "Python 3 (ipykernel)",
   "language": "python",
   "name": "python3"
  },
  "language_info": {
   "codemirror_mode": {
    "name": "ipython",
    "version": 3
   },
   "file_extension": ".py",
   "mimetype": "text/x-python",
   "name": "python",
   "nbconvert_exporter": "python",
   "pygments_lexer": "ipython3",
   "version": "3.9.12"
  }
 },
 "nbformat": 4,
 "nbformat_minor": 5
}
