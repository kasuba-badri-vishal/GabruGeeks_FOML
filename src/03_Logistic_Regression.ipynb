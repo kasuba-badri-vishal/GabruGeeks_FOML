{
 "cells": [
  {
   "cell_type": "code",
   "execution_count": 20,
   "id": "165bd3bb",
   "metadata": {},
   "outputs": [],
   "source": [
    "import pandas as pd\n",
    "\n",
    "from sklearn.feature_extraction.text import CountVectorizer\n",
    "from sklearn.feature_extraction.text import TfidfVectorizer\n",
    "\n",
    "from sklearn.model_selection import train_test_split\n",
    "from sklearn.multioutput import MultiOutputClassifier\n",
    "from sklearn.linear_model import LogisticRegression\n",
    "from sklearn.metrics import classification_report\n",
    "\n",
    "import ast\n",
    "from tqdm import tqdm\n",
    "tqdm.pandas()"
   ]
  },
  {
   "cell_type": "code",
   "execution_count": 21,
   "id": "c8bdfd4c",
   "metadata": {},
   "outputs": [
    {
     "name": "stderr",
     "output_type": "stream",
     "text": [
      "100%|████████████████████████████████████| 5000/5000 [00:00<00:00, 21885.11it/s]\n",
      "100%|███████████████████████████████████| 5000/5000 [00:00<00:00, 182321.41it/s]\n",
      "100%|███████████████████████████████████| 5000/5000 [00:00<00:00, 332443.29it/s]\n",
      "100%|██████████████████████████████████| 5000/5000 [00:00<00:00, 1099021.07it/s]\n"
     ]
    }
   ],
   "source": [
    "\n",
    "df = pd.read_csv(\"./../data/processed/data.csv\", nrows=5000)\n",
    "\n",
    "df['Text'] = df['Text'].progress_apply(lambda x : ast.literal_eval(x))\n",
    "df['Tags'] = df['Tags'].progress_apply(lambda x : ast.literal_eval(x))\n",
    "\n",
    "df['Text'] = df['Text'].progress_apply(lambda x : ' '.join(map(str, x)))\n",
    "df['Tags'] = df['Tags'].progress_apply(lambda x : ' '.join(map(str, x)))"
   ]
  },
  {
   "cell_type": "code",
   "execution_count": 22,
   "id": "0b4fad5f",
   "metadata": {},
   "outputs": [
    {
     "name": "stderr",
     "output_type": "stream",
     "text": [
      "/home/venkat/BADRI/badrienv/lib/python3.8/site-packages/sklearn/feature_extraction/text.py:489: UserWarning: The parameter 'token_pattern' will not be used since 'tokenizer' is not None'\n",
      "  warnings.warn(\"The parameter 'token_pattern' will not be used\"\n"
     ]
    }
   ],
   "source": [
    "vectorizer = CountVectorizer(tokenizer = lambda x: x.split(), binary='true', min_df=1)\n",
    "vectorizer.fit(df['Tags']) #tags\n",
    "\n",
    "y = vectorizer.transform(df['Tags']).toarray()\n",
    "\n",
    "tags_dict = vectorizer.vocabulary_\n",
    "\n",
    "\n",
    "tfidf = TfidfVectorizer()\n",
    "X = tfidf.fit_transform(df['Text']).toarray()\n",
    "X_train, X_test, y_train, y_test = train_test_split(X,y,test_size=0.2,random_state=42)"
   ]
  },
  {
   "cell_type": "code",
   "execution_count": 23,
   "id": "7f9cb4cd",
   "metadata": {},
   "outputs": [],
   "source": [
    "clf = MultiOutputClassifier(LogisticRegression()).fit(X_train, y_train)"
   ]
  },
  {
   "cell_type": "code",
   "execution_count": 24,
   "id": "4e222d01",
   "metadata": {},
   "outputs": [],
   "source": [
    "y_pred = clf.predict(X_test)"
   ]
  },
  {
   "cell_type": "code",
   "execution_count": 25,
   "id": "c29765bc",
   "metadata": {},
   "outputs": [
    {
     "name": "stdout",
     "output_type": "stream",
     "text": [
      "              precision    recall  f1-score   support\n",
      "\n",
      "           0       0.00      0.00      0.00         2\n",
      "           1       0.00      0.00      0.00        36\n",
      "           2       0.00      0.00      0.00         7\n",
      "           3       0.00      0.00      0.00        17\n",
      "           4       0.00      0.00      0.00         5\n",
      "           5       0.94      0.20      0.33        76\n",
      "           6       0.00      0.00      0.00         2\n",
      "           7       0.00      0.00      0.00         7\n",
      "           8       0.00      0.00      0.00         5\n",
      "           9       0.00      0.00      0.00         7\n",
      "          10       1.00      0.02      0.04        44\n",
      "          11       0.00      0.00      0.00        12\n",
      "          12       0.00      0.00      0.00         5\n",
      "          13       0.00      0.00      0.00         5\n",
      "          14       0.00      0.00      0.00        18\n",
      "          15       0.00      0.00      0.00        97\n",
      "          16       0.00      0.00      0.00        35\n",
      "          17       0.00      0.00      0.00         7\n",
      "          18       0.00      0.00      0.00         8\n",
      "          19       0.00      0.00      0.00         6\n",
      "          20       1.00      0.03      0.05        40\n",
      "          21       0.00      0.00      0.00        17\n",
      "          22       0.00      0.00      0.00         3\n",
      "          23       0.00      0.00      0.00         2\n",
      "          24       0.00      0.00      0.00        13\n",
      "          25       0.00      0.00      0.00         5\n",
      "          26       0.00      0.00      0.00         6\n",
      "          27       0.00      0.00      0.00         5\n",
      "          28       0.00      0.00      0.00         4\n",
      "          29       0.00      0.00      0.00        11\n",
      "          30       0.00      0.00      0.00         3\n",
      "          31       0.00      0.00      0.00         4\n",
      "          32       0.00      0.00      0.00        10\n",
      "          33       0.00      0.00      0.00        10\n",
      "          34       0.00      0.00      0.00         8\n",
      "          35       0.00      0.00      0.00         7\n",
      "          36       0.00      0.00      0.00         7\n",
      "          37       0.00      0.00      0.00         5\n",
      "          38       0.00      0.00      0.00        42\n",
      "          39       0.00      0.00      0.00         6\n",
      "          40       0.00      0.00      0.00         5\n",
      "          41       0.00      0.00      0.00         3\n",
      "          42       0.00      0.00      0.00         4\n",
      "          43       0.00      0.00      0.00        36\n",
      "          44       0.00      0.00      0.00         8\n",
      "          45       0.00      0.00      0.00        39\n",
      "          46       1.00      0.10      0.18        93\n",
      "          47       0.78      0.10      0.17        73\n",
      "          48       0.92      0.16      0.27        76\n",
      "          49       0.00      0.00      0.00         3\n",
      "          50       0.00      0.00      0.00        12\n",
      "          51       0.00      0.00      0.00         8\n",
      "          52       0.00      0.00      0.00        26\n",
      "          53       0.00      0.00      0.00         2\n",
      "          54       0.00      0.00      0.00         6\n",
      "          55       0.50      0.03      0.05        39\n",
      "          56       0.00      0.00      0.00        14\n",
      "          57       0.00      0.00      0.00         1\n",
      "          58       0.00      0.00      0.00        30\n",
      "          59       0.00      0.00      0.00        10\n",
      "          60       0.00      0.00      0.00        11\n",
      "          61       0.00      0.00      0.00        10\n",
      "          62       0.00      0.00      0.00         6\n",
      "          63       0.83      0.12      0.21        83\n",
      "          64       1.00      0.04      0.08        46\n",
      "          65       0.00      0.00      0.00         3\n",
      "          66       0.00      0.00      0.00         9\n",
      "          67       0.00      0.00      0.00         4\n",
      "          68       0.00      0.00      0.00        11\n",
      "          69       0.00      0.00      0.00        19\n",
      "          70       0.00      0.00      0.00        25\n",
      "          71       0.00      0.00      0.00         7\n",
      "          72       0.00      0.00      0.00         5\n",
      "          73       0.00      0.00      0.00         5\n",
      "          74       0.00      0.00      0.00         9\n",
      "          75       0.00      0.00      0.00         8\n",
      "          76       0.00      0.00      0.00        42\n",
      "          77       0.00      0.00      0.00        18\n",
      "          78       0.00      0.00      0.00         6\n",
      "          79       0.00      0.00      0.00         7\n",
      "          80       0.00      0.00      0.00         9\n",
      "          81       0.00      0.00      0.00         2\n",
      "          82       0.00      0.00      0.00         2\n",
      "          83       0.00      0.00      0.00         5\n",
      "          84       0.00      0.00      0.00         7\n",
      "          85       0.00      0.00      0.00         2\n",
      "          86       0.00      0.00      0.00         7\n",
      "          87       0.00      0.00      0.00         7\n",
      "          88       0.00      0.00      0.00        11\n",
      "          89       0.00      0.00      0.00         8\n",
      "          90       0.00      0.00      0.00         6\n",
      "          91       0.00      0.00      0.00        22\n",
      "          92       0.00      0.00      0.00        11\n",
      "          93       0.00      0.00      0.00         3\n",
      "          94       0.00      0.00      0.00         4\n",
      "          95       0.00      0.00      0.00        12\n",
      "          96       0.00      0.00      0.00         9\n",
      "          97       0.00      0.00      0.00        14\n",
      "          98       0.00      0.00      0.00        15\n",
      "          99       0.00      0.00      0.00        10\n",
      "\n",
      "   micro avg       0.89      0.04      0.07      1597\n",
      "   macro avg       0.08      0.01      0.01      1597\n",
      "weighted avg       0.32      0.04      0.06      1597\n",
      " samples avg       0.05      0.04      0.04      1597\n",
      "\n"
     ]
    },
    {
     "name": "stderr",
     "output_type": "stream",
     "text": [
      "/home/venkat/BADRI/badrienv/lib/python3.8/site-packages/sklearn/metrics/_classification.py:1245: UndefinedMetricWarning: Precision and F-score are ill-defined and being set to 0.0 in labels with no predicted samples. Use `zero_division` parameter to control this behavior.\n",
      "  _warn_prf(average, modifier, msg_start, len(result))\n",
      "/home/venkat/BADRI/badrienv/lib/python3.8/site-packages/sklearn/metrics/_classification.py:1245: UndefinedMetricWarning: Precision and F-score are ill-defined and being set to 0.0 in samples with no predicted labels. Use `zero_division` parameter to control this behavior.\n",
      "  _warn_prf(average, modifier, msg_start, len(result))\n"
     ]
    }
   ],
   "source": [
    "classification_report(y_test, y_pred)"
   ]
  },
  {
   "cell_type": "code",
   "execution_count": null,
   "id": "06d21b2a",
   "metadata": {},
   "outputs": [],
   "source": []
  }
 ],
 "metadata": {
  "kernelspec": {
   "display_name": "Python 3 (ipykernel)",
   "language": "python",
   "name": "python3"
  },
  "language_info": {
   "codemirror_mode": {
    "name": "ipython",
    "version": 3
   },
   "file_extension": ".py",
   "mimetype": "text/x-python",
   "name": "python",
   "nbconvert_exporter": "python",
   "pygments_lexer": "ipython3",
   "version": "3.8.10"
  }
 },
 "nbformat": 4,
 "nbformat_minor": 5
}
