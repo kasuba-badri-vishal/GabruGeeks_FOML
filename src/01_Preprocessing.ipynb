{
 "cells": [
  {
   "cell_type": "markdown",
   "id": "6bb36e25",
   "metadata": {},
   "source": [
    "### Imports"
   ]
  },
  {
   "cell_type": "code",
   "execution_count": 1,
   "id": "f13d1dda",
   "metadata": {},
   "outputs": [],
   "source": [
    "import pandas as pd\n",
    "import numpy as np\n",
    "\n",
    "import re\n",
    "\n",
    "from tqdm import tqdm\n",
    "tqdm.pandas()\n",
    "\n",
    "from collections import Counter\n",
    "\n",
    "# nltk library imports\n",
    "import nltk\n",
    "from nltk.corpus import stopwords\n",
    "from nltk.tokenize import word_tokenize\n",
    "from nltk.stem.porter import PorterStemmer"
   ]
  },
  {
   "cell_type": "code",
   "execution_count": 2,
   "id": "610ed5d9",
   "metadata": {},
   "outputs": [],
   "source": [
    "### Run nltk download command once to get required stopwords\n",
    "# nltk.download('punkt')\n",
    "# nltk.download('stopwords')\n",
    "\n",
    "stop = stopwords.words('english')\n",
    "ps=PorterStemmer()"
   ]
  },
  {
   "cell_type": "markdown",
   "id": "cf64392d",
   "metadata": {},
   "source": [
    "### Functions"
   ]
  },
  {
   "cell_type": "code",
   "execution_count": 12,
   "id": "7ff3654a",
   "metadata": {},
   "outputs": [],
   "source": [
    "def topn_tags(dataFrame ,n):\n",
    "    \"\"\"\n",
    "    This function returns a list of top n tags \n",
    "    :param dataFrame: pandas dataFrame\n",
    "    :param n: integer\n",
    "    :returns: list of strings\n",
    "    \"\"\"\n",
    "    dataFrame['Tags'] = dataFrame['Tags'].apply(lambda x : x.split(' '))\n",
    "    \n",
    "    counter = Counter()\n",
    "    _ = df['Tags'].apply(counter.update)\n",
    "    \n",
    "    unique_tags = counter.most_common(n)       # Top n tags\n",
    "    tags_df = pd.DataFrame(unique_tags, columns=['Tags','Freq'])\n",
    "    unique_tags = tags_df.Tags.tolist()\n",
    "    \n",
    "    return unique_tags\n",
    "    \n",
    "\n",
    "def separate_code_and_body(body):\n",
    "    \"\"\"\n",
    "    This function returns a list of two strings - Code and Description from the given Body content\n",
    "    :param string: text string of body\n",
    "    :returns: list of strings containing Code and Body\n",
    "    \"\"\"\n",
    "    code_snippets = re.finditer(\"<code.*?>(.*?)</code>\", body, re.DOTALL)\n",
    "    code = []\n",
    "    description = body\n",
    "    for snip in code_snippets:\n",
    "        code.append(snip.group())\n",
    "        body = body.replace(snip.group(),\"\")\n",
    "    return [code, body]  \n",
    "\n",
    "\n",
    "def convert_to_lower(text):\n",
    "    \"\"\"\n",
    "    This function returns a string with lowercase characters\n",
    "    :param string: text string\n",
    "    :returns: text string\n",
    "    \"\"\"\n",
    "    return text.lower()\n",
    "\n",
    "def remove_special_chars(text):\n",
    "    \"\"\"\n",
    "    This function returns a string with filtered special case characters except # and ++ for C# and C++\n",
    "    :param string: text string\n",
    "    :returns: text string\n",
    "    \"\"\"\n",
    "    return re.sub(r\"[^A-Za-z #++]+\",'', text)\n",
    "\n",
    "def get_list_intersection(x, y):\n",
    "    \"\"\"\n",
    "    This function returns a list which is intersection of two input lists\n",
    "    :param list: list of strings\n",
    "    :param list: list of strings\n",
    "    :returns: Intersection list of strings\n",
    "    \"\"\"\n",
    "    return list(set(x) & set(y))\n",
    "\n",
    "\n",
    "def remove_html_tags(text):\n",
    "    \"\"\"\n",
    "    This function returns a string after removing html tags from a string\n",
    "    :param string: text string\n",
    "    :returns: text string\n",
    "    \"\"\"\n",
    "    clean = re.compile('<.*?>')\n",
    "    return re.sub(clean,'', text)\n",
    "\n",
    "def remove_n(text):\n",
    "    \"\"\"\n",
    "    This function returns a string after removing new line char(\\n) from a string\n",
    "    :param string: text string\n",
    "    :returns: text string\n",
    "    \"\"\"\n",
    "    clean1 = re.compile('\\n')\n",
    "    return re.sub(clean1,'', text)\n",
    "\n",
    "def get_processed_tags(tags, tag_ids, n):\n",
    "    \"\"\"\n",
    "    This function returns a list of binary values of tags size length for tags represention\n",
    "    :param list: list of tags\n",
    "    :param Dictionary: Dict of tags and their ids\n",
    "    :param int: Number of frequent tags\n",
    "    :returns: text string\n",
    "    \"\"\"\n",
    "    label = [0]*n\n",
    "    for tag in tags:\n",
    "        label[tag_ids[tag]] = 1\n",
    "    return label"
   ]
  },
  {
   "cell_type": "markdown",
   "id": "cc59c627",
   "metadata": {},
   "source": [
    "### Read Data"
   ]
  },
  {
   "cell_type": "code",
   "execution_count": 5,
   "id": "2522f59a",
   "metadata": {},
   "outputs": [],
   "source": [
    "df = pd.read_csv('./../data/processed/train.csv', nrows=10000)\n",
    "\n",
    "### Number of Most frequent tags taken into consideration\n",
    "n = 100"
   ]
  },
  {
   "cell_type": "markdown",
   "id": "7c1c0dac",
   "metadata": {},
   "source": [
    "### Data Pre - Processing"
   ]
  },
  {
   "cell_type": "markdown",
   "id": "0bb0a0a3",
   "metadata": {},
   "source": [
    "#### Tags Filtering"
   ]
  },
  {
   "cell_type": "code",
   "execution_count": 6,
   "id": "f32ca337",
   "metadata": {},
   "outputs": [
    {
     "name": "stderr",
     "output_type": "stream",
     "text": [
      "100%|███████████████████████████████████████████████████████████████████████████████████████████████████████| 10000/10000 [00:00<00:00, 537724.39it/s]\n"
     ]
    }
   ],
   "source": [
    "# Converting Tags to lower case\n",
    "df['Tags'] = df['Tags'].progress_apply(lambda x: convert_to_lower(x))\n",
    "\n",
    "# Drop nan Tag values\n",
    "df.dropna(subset=['Tags'],inplace=True)\n",
    "\n",
    "# Filtering to Top 100 tags on Frequency\n",
    "unique_tags = topn_tags(df,n)\n",
    "\n",
    "# Filtering the Dataset for top 100 tags\n",
    "df['Tags'] = df['Tags'].apply(lambda x : get_list_intersection(x,unique_tags))\n",
    "df = df[df['Tags'].map(lambda d: len(d)) > 0]\n",
    "df.reset_index(drop=True, inplace=True)"
   ]
  },
  {
   "cell_type": "markdown",
   "id": "fd018081",
   "metadata": {},
   "source": [
    "#### Separate Code from Body"
   ]
  },
  {
   "cell_type": "code",
   "execution_count": 7,
   "id": "8b121b76",
   "metadata": {
    "scrolled": true
   },
   "outputs": [
    {
     "name": "stderr",
     "output_type": "stream",
     "text": [
      "100%|██████████████████████████████████████████████████████████████████████████████████████████████████████████| 7626/7626 [00:00<00:00, 35723.79it/s]\n"
     ]
    }
   ],
   "source": [
    "df['Code'] = df['Body'].progress_apply(lambda x : separate_code_and_body(x))\n",
    "df[['Code','Description']] = pd.DataFrame(df.Code.tolist(), index= df.index)"
   ]
  },
  {
   "cell_type": "markdown",
   "id": "e68e721c",
   "metadata": {},
   "source": [
    "#### Convert to Lower"
   ]
  },
  {
   "cell_type": "code",
   "execution_count": 8,
   "id": "fb664ab6",
   "metadata": {
    "scrolled": true
   },
   "outputs": [
    {
     "name": "stderr",
     "output_type": "stream",
     "text": [
      "100%|█████████████████████████████████████████████████████████████████████████████████████████████████████████| 7626/7626 [00:00<00:00, 487483.80it/s]\n",
      "100%|█████████████████████████████████████████████████████████████████████████████████████████████████████████| 7626/7626 [00:00<00:00, 390360.66it/s]\n"
     ]
    }
   ],
   "source": [
    "df['Title'] = df['Title'].progress_apply(lambda x:  convert_to_lower(x))\n",
    "df['Description'] = df['Description'].progress_apply(lambda x:  convert_to_lower(x))"
   ]
  },
  {
   "cell_type": "markdown",
   "id": "959bc238",
   "metadata": {},
   "source": [
    "#### Description Processing"
   ]
  },
  {
   "cell_type": "code",
   "execution_count": 9,
   "id": "a773df81",
   "metadata": {
    "scrolled": false
   },
   "outputs": [
    {
     "name": "stderr",
     "output_type": "stream",
     "text": [
      "100%|█████████████████████████████████████████████████████████████████████████████████████████████████████████| 7626/7626 [00:00<00:00, 118767.98it/s]\n",
      "100%|█████████████████████████████████████████████████████████████████████████████████████████████████████████| 7626/7626 [00:00<00:00, 209819.75it/s]\n",
      "100%|██████████████████████████████████████████████████████████████████████████████████████████████████████████| 7626/7626 [00:00<00:00, 53459.02it/s]\n",
      "100%|███████████████████████████████████████████████████████████████████████████████████████████████████████████| 7626/7626 [00:02<00:00, 2844.18it/s]\n",
      "100%|███████████████████████████████████████████████████████████████████████████████████████████████████████████| 7626/7626 [00:01<00:00, 5384.30it/s]\n",
      "100%|███████████████████████████████████████████████████████████████████████████████████████████████████████████| 7626/7626 [00:07<00:00, 1039.15it/s]\n"
     ]
    }
   ],
   "source": [
    "df['Description'] = df['Description'].progress_apply(lambda x: remove_html_tags(x))\n",
    "df['Description'] = df['Description'].progress_apply(lambda x: remove_n(x))\n",
    "df['Description'] = df['Description'].progress_apply(lambda x: remove_special_chars(x))\n",
    "df['Description'] = df['Description'].progress_apply(lambda x: word_tokenize(x))\n",
    "df['Description'] = df['Description'].progress_apply(lambda x: [item for item in x if item not in stop])\n",
    "df['Description'] = df['Description'].progress_apply(lambda x: [ps.stem(word) for word in x])"
   ]
  },
  {
   "cell_type": "markdown",
   "id": "d1c0d551",
   "metadata": {},
   "source": [
    "#### Title Processing"
   ]
  },
  {
   "cell_type": "code",
   "execution_count": 10,
   "id": "b0eb5abf",
   "metadata": {},
   "outputs": [
    {
     "name": "stderr",
     "output_type": "stream",
     "text": [
      "100%|█████████████████████████████████████████████████████████████████████████████████████████████████████████| 7626/7626 [00:00<00:00, 305756.15it/s]\n",
      "100%|█████████████████████████████████████████████████████████████████████████████████████████████████████████| 7626/7626 [00:00<00:00, 152072.01it/s]\n",
      "100%|███████████████████████████████████████████████████████████████████████████████████████████████████████████| 7626/7626 [00:00<00:00, 8015.35it/s]\n",
      "100%|██████████████████████████████████████████████████████████████████████████████████████████████████████████| 7626/7626 [00:00<00:00, 37398.79it/s]\n",
      "100%|███████████████████████████████████████████████████████████████████████████████████████████████████████████| 7626/7626 [00:01<00:00, 7507.52it/s]\n"
     ]
    }
   ],
   "source": [
    "df['Title'] = df['Title'].progress_apply(lambda x: remove_n(x))\n",
    "df['Title'] = df['Title'].progress_apply(lambda x: remove_special_chars(x))\n",
    "df['Title'] = df['Title'].progress_apply(lambda x: word_tokenize(x))\n",
    "df['Title'] = df['Title'].progress_apply(lambda x: [item for item in x if item not in stop])\n",
    "df['Title'] = df['Title'].progress_apply(lambda x: [ps.stem(word) for word in x])"
   ]
  },
  {
   "cell_type": "markdown",
   "id": "abbab607",
   "metadata": {},
   "source": [
    "#### Merge Title and Body"
   ]
  },
  {
   "cell_type": "code",
   "execution_count": 11,
   "id": "98841f19",
   "metadata": {
    "scrolled": true
   },
   "outputs": [
    {
     "name": "stderr",
     "output_type": "stream",
     "text": [
      "100%|██████████████████████████████████████████████████████████████████████████████████████████████████████████| 7626/7626 [00:00<00:00, 87530.55it/s]\n"
     ]
    }
   ],
   "source": [
    "df['Text'] = df['Title'] + df['Description']\n",
    "df['Text'] = df['Text'].progress_apply(lambda x: list(set(x)))\n",
    "df = df[['Text','Tags']]"
   ]
  },
  {
   "cell_type": "code",
   "execution_count": 13,
   "id": "e356e726",
   "metadata": {},
   "outputs": [
    {
     "name": "stderr",
     "output_type": "stream",
     "text": [
      "100%|█████████████████████████████████████████████████████████████████████████████████████████████████████████| 7626/7626 [00:00<00:00, 271539.83it/s]\n"
     ]
    }
   ],
   "source": [
    "tag_ids = {}\n",
    "\n",
    "for i in range(len(unique_tags)):\n",
    "    tag_ids[unique_tags[i]] = i\n",
    "\n",
    "df['Tags'] = df['Tags'].progress_apply(lambda x : get_processed_tags(x, tag_ids, n))"
   ]
  },
  {
   "cell_type": "code",
   "execution_count": null,
   "id": "4f7cc0fb",
   "metadata": {},
   "outputs": [],
   "source": [
    "counter = Counter()\n",
    "_ = df['Text'].apply(counter.update)"
   ]
  }
 ],
 "metadata": {
  "kernelspec": {
   "display_name": "Python 3 (ipykernel)",
   "language": "python",
   "name": "python3"
  },
  "language_info": {
   "codemirror_mode": {
    "name": "ipython",
    "version": 3
   },
   "file_extension": ".py",
   "mimetype": "text/x-python",
   "name": "python",
   "nbconvert_exporter": "python",
   "pygments_lexer": "ipython3",
   "version": "3.9.12"
  }
 },
 "nbformat": 4,
 "nbformat_minor": 5
}
