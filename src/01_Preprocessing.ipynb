{
 "cells": [
  {
   "cell_type": "markdown",
   "id": "6bb36e25",
   "metadata": {},
   "source": [
    "### Imports"
   ]
  },
  {
   "cell_type": "code",
   "execution_count": 82,
   "id": "f13d1dda",
   "metadata": {},
   "outputs": [],
   "source": [
    "import pandas as pd\n",
    "import numpy as np\n",
    "\n",
    "import re\n",
    "\n",
    "from tqdm import tqdm\n",
    "tqdm.pandas()\n",
    "\n",
    "from collections import Counter\n",
    "\n",
    "# nltk library imports\n",
    "import nltk\n",
    "from nltk.corpus import stopwords\n",
    "from nltk.tokenize import word_tokenize\n",
    "from nltk.stem.porter import PorterStemmer"
   ]
  },
  {
   "cell_type": "code",
   "execution_count": 83,
   "id": "610ed5d9",
   "metadata": {},
   "outputs": [],
   "source": [
    "### Run nltk download command once to get required stopwords\n",
    "# nltk.download('punkt')\n",
    "# nltk.download('stopwords')\n",
    "\n",
    "stop = stopwords.words('english')\n",
    "ps=PorterStemmer()"
   ]
  },
  {
   "cell_type": "markdown",
   "id": "cf64392d",
   "metadata": {},
   "source": [
    "### Functions"
   ]
  },
  {
   "cell_type": "code",
   "execution_count": 84,
   "id": "7ff3654a",
   "metadata": {},
   "outputs": [],
   "source": [
    "def topn_tags(dataFrame ,n):\n",
    "    \"\"\"\n",
    "    This function returns a list of top n tags \n",
    "    :param dataFrame: pandas dataFrame\n",
    "    :param n: integer\n",
    "    :returns: list of strings\n",
    "    \"\"\"\n",
    "    dataFrame['Tags'] = dataFrame['Tags'].apply(lambda x : x.split(' '))\n",
    "    \n",
    "    counter = Counter()\n",
    "    _ = df['Tags'].apply(counter.update)\n",
    "    \n",
    "    unique_tags = counter.most_common(n)       # Top n tags\n",
    "    tags_df = pd.DataFrame(unique_tags, columns=['Tags','Freq'])\n",
    "    unique_tags = tags_df.Tags.tolist()\n",
    "    \n",
    "    return unique_tags\n",
    "    \n",
    "\n",
    "def separate_code_and_body(body):\n",
    "    \"\"\"\n",
    "    This function returns a list of two strings - Code and Description from the given Body content\n",
    "    :param string: text string of body\n",
    "    :returns: list of strings containing Code and Body\n",
    "    \"\"\"\n",
    "    code_snippets = re.finditer(\"<code.*?>(.*?)</code>\", body, re.DOTALL)\n",
    "    code = []\n",
    "    description = body\n",
    "    for snip in code_snippets:\n",
    "        code.append(snip.group())\n",
    "        body = body.replace(snip.group(),\"\")\n",
    "    return [code, body]  \n",
    "\n",
    "\n",
    "def convert_to_lower(text):\n",
    "    \"\"\"\n",
    "    This function returns a string with lowercase characters\n",
    "    :param string: text string\n",
    "    :returns: text string\n",
    "    \"\"\"\n",
    "    return text.lower()\n",
    "\n",
    "def remove_special_chars(text):\n",
    "    \"\"\"\n",
    "    This function returns a string with filtered special case characters except # and ++ for C# and C++\n",
    "    :param string: text string\n",
    "    :returns: text string\n",
    "    \"\"\"\n",
    "    return re.sub(r\"[^A-Za-z #++]+\",'', text)\n",
    "\n",
    "def get_list_intersection(x, y):\n",
    "    \"\"\"\n",
    "    This function returns a list which is intersection of two input lists\n",
    "    :param list: list of strings\n",
    "    :param list: list of strings\n",
    "    :returns: Intersection list of strings\n",
    "    \"\"\"\n",
    "    return list(set(x) & set(y))\n",
    "\n",
    "\n",
    "def remove_html_tags(text):\n",
    "    \"\"\"\n",
    "    This function returns a string after removing html tags from a string\n",
    "    :param string: text string\n",
    "    :returns: text string\n",
    "    \"\"\"\n",
    "    clean = re.compile('<.*?>')\n",
    "    return re.sub(clean,'', text)\n",
    "\n",
    "def remove_n(text):\n",
    "    \"\"\"\n",
    "    This function returns a string after removing new line char(\\n) from a string\n",
    "    :param string: text string\n",
    "    :returns: text string\n",
    "    \"\"\"\n",
    "    clean1 = re.compile('\\n')\n",
    "    return re.sub(clean1,'', text)\n",
    "\n",
    "def get_processed_tags(tags, tag_ids, n):\n",
    "    \"\"\"\n",
    "    This function returns a list of binary values of tags size length for tags represention\n",
    "    :param list: list of tags\n",
    "    :param Dictionary: Dict of tags and their ids\n",
    "    :param int: Number of frequent tags\n",
    "    :returns: text string\n",
    "    \"\"\"\n",
    "    label = [0]*n\n",
    "    for tag in tags:\n",
    "        label[tag_ids[tag]] = 1\n",
    "    return label"
   ]
  },
  {
   "cell_type": "markdown",
   "id": "cc59c627",
   "metadata": {},
   "source": [
    "### Read Data"
   ]
  },
  {
   "cell_type": "code",
   "execution_count": 85,
   "id": "2522f59a",
   "metadata": {},
   "outputs": [],
   "source": [
    "df = pd.read_csv('./../data/processed/train.csv', nrows=15000)\n",
    "\n",
    "### Number of Most frequent tags taken into consideration\n",
    "n = 100"
   ]
  },
  {
   "cell_type": "markdown",
   "id": "7c1c0dac",
   "metadata": {},
   "source": [
    "### Data Pre - Processing"
   ]
  },
  {
   "cell_type": "markdown",
   "id": "0bb0a0a3",
   "metadata": {},
   "source": [
    "#### Tags Filtering"
   ]
  },
  {
   "cell_type": "code",
   "execution_count": 86,
   "id": "f32ca337",
   "metadata": {},
   "outputs": [
    {
     "name": "stderr",
     "output_type": "stream",
     "text": [
      "100%|█████████████████████████████████| 15000/15000 [00:00<00:00, 411305.74it/s]\n"
     ]
    }
   ],
   "source": [
    "# Converting Tags to lower case\n",
    "df['Tags'] = df['Tags'].progress_apply(lambda x: convert_to_lower(x))\n",
    "\n",
    "# Drop nan Tag values\n",
    "df.dropna(subset=['Tags'],inplace=True)\n",
    "\n",
    "# Filtering to Top 100 tags on Frequency\n",
    "unique_tags = topn_tags(df,n)\n",
    "\n",
    "# Filtering the Dataset for top 100 tags\n",
    "df['Tags'] = df['Tags'].apply(lambda x : get_list_intersection(x,unique_tags))\n",
    "df = df[df['Tags'].map(lambda d: len(d)) > 0]\n",
    "df.reset_index(drop=True, inplace=True)"
   ]
  },
  {
   "cell_type": "markdown",
   "id": "fd018081",
   "metadata": {},
   "source": [
    "#### Separate Code from Body"
   ]
  },
  {
   "cell_type": "code",
   "execution_count": 87,
   "id": "8b121b76",
   "metadata": {
    "scrolled": true
   },
   "outputs": [
    {
     "name": "stderr",
     "output_type": "stream",
     "text": [
      "100%|██████████████████████████████████| 11310/11310 [00:00<00:00, 47736.41it/s]\n"
     ]
    }
   ],
   "source": [
    "df['Code'] = df['Body'].progress_apply(lambda x : separate_code_and_body(x))\n",
    "df[['Code','Description']] = pd.DataFrame(df.Code.tolist(), index= df.index)"
   ]
  },
  {
   "cell_type": "markdown",
   "id": "e68e721c",
   "metadata": {},
   "source": [
    "#### Convert to Lower"
   ]
  },
  {
   "cell_type": "code",
   "execution_count": 88,
   "id": "fb664ab6",
   "metadata": {
    "scrolled": true
   },
   "outputs": [
    {
     "name": "stderr",
     "output_type": "stream",
     "text": [
      "100%|█████████████████████████████████| 11310/11310 [00:00<00:00, 364218.04it/s]\n",
      "100%|█████████████████████████████████| 11310/11310 [00:00<00:00, 320333.71it/s]\n"
     ]
    }
   ],
   "source": [
    "df['Title'] = df['Title'].progress_apply(lambda x:  convert_to_lower(x))\n",
    "df['Description'] = df['Description'].progress_apply(lambda x:  convert_to_lower(x))"
   ]
  },
  {
   "cell_type": "markdown",
   "id": "959bc238",
   "metadata": {},
   "source": [
    "#### Description Processing"
   ]
  },
  {
   "cell_type": "code",
   "execution_count": 89,
   "id": "a773df81",
   "metadata": {
    "scrolled": false
   },
   "outputs": [
    {
     "name": "stderr",
     "output_type": "stream",
     "text": [
      "100%|██████████████████████████████████| 11310/11310 [00:00<00:00, 99229.96it/s]\n",
      "100%|█████████████████████████████████| 11310/11310 [00:00<00:00, 175738.34it/s]\n",
      "100%|██████████████████████████████████| 11310/11310 [00:00<00:00, 55979.03it/s]\n",
      "100%|███████████████████████████████████| 11310/11310 [00:03<00:00, 2938.68it/s]\n",
      "100%|███████████████████████████████████| 11310/11310 [00:02<00:00, 5480.99it/s]\n",
      "100%|███████████████████████████████████| 11310/11310 [00:09<00:00, 1235.01it/s]\n"
     ]
    }
   ],
   "source": [
    "df['Description'] = df['Description'].progress_apply(lambda x: remove_html_tags(x))\n",
    "df['Description'] = df['Description'].progress_apply(lambda x: remove_n(x))\n",
    "df['Description'] = df['Description'].progress_apply(lambda x: remove_special_chars(x))\n",
    "df['Description'] = df['Description'].progress_apply(lambda x: word_tokenize(x))\n",
    "df['Description'] = df['Description'].progress_apply(lambda x: [item for item in x if item not in stop])\n",
    "df['Description'] = df['Description'].progress_apply(lambda x: [ps.stem(word) for word in x])"
   ]
  },
  {
   "cell_type": "markdown",
   "id": "d1c0d551",
   "metadata": {},
   "source": [
    "#### Title Processing"
   ]
  },
  {
   "cell_type": "code",
   "execution_count": 90,
   "id": "b0eb5abf",
   "metadata": {},
   "outputs": [
    {
     "name": "stderr",
     "output_type": "stream",
     "text": [
      "100%|█████████████████████████████████| 11310/11310 [00:00<00:00, 241657.34it/s]\n",
      "100%|█████████████████████████████████| 11310/11310 [00:00<00:00, 232249.11it/s]\n",
      "100%|██████████████████████████████████| 11310/11310 [00:01<00:00, 10488.74it/s]\n",
      "100%|██████████████████████████████████| 11310/11310 [00:00<00:00, 25281.54it/s]\n",
      "100%|██████████████████████████████████| 11310/11310 [00:01<00:00, 10048.10it/s]\n"
     ]
    }
   ],
   "source": [
    "df['Title'] = df['Title'].progress_apply(lambda x: remove_n(x))\n",
    "df['Title'] = df['Title'].progress_apply(lambda x: remove_special_chars(x))\n",
    "df['Title'] = df['Title'].progress_apply(lambda x: word_tokenize(x))\n",
    "df['Title'] = df['Title'].progress_apply(lambda x: [item for item in x if item not in stop])\n",
    "df['Title'] = df['Title'].progress_apply(lambda x: [ps.stem(word) for word in x])"
   ]
  },
  {
   "cell_type": "markdown",
   "id": "abbab607",
   "metadata": {},
   "source": [
    "#### Merge Title and Body"
   ]
  },
  {
   "cell_type": "code",
   "execution_count": 91,
   "id": "98841f19",
   "metadata": {
    "scrolled": true
   },
   "outputs": [
    {
     "name": "stderr",
     "output_type": "stream",
     "text": [
      "100%|██████████████████████████████████| 11310/11310 [00:00<00:00, 86308.52it/s]\n"
     ]
    }
   ],
   "source": [
    "df['Text'] = df['Title'] + df['Description']\n",
    "df['Text'] = df['Text'].progress_apply(lambda x: list(set(x)))\n",
    "df = df[['Text','Tags']]"
   ]
  },
  {
   "cell_type": "code",
   "execution_count": 92,
   "id": "b1b59bb5",
   "metadata": {},
   "outputs": [
    {
     "data": {
      "text/html": [
       "<div>\n",
       "<style scoped>\n",
       "    .dataframe tbody tr th:only-of-type {\n",
       "        vertical-align: middle;\n",
       "    }\n",
       "\n",
       "    .dataframe tbody tr th {\n",
       "        vertical-align: top;\n",
       "    }\n",
       "\n",
       "    .dataframe thead th {\n",
       "        text-align: right;\n",
       "    }\n",
       "</style>\n",
       "<table border=\"1\" class=\"dataframe\">\n",
       "  <thead>\n",
       "    <tr style=\"text-align: right;\">\n",
       "      <th></th>\n",
       "      <th>Text</th>\n",
       "      <th>Tags</th>\n",
       "    </tr>\n",
       "  </thead>\n",
       "  <tbody>\n",
       "    <tr>\n",
       "      <th>0</th>\n",
       "      <td>[type, png, matter, php, id, jpg, uploadi, eg,...</td>\n",
       "      <td>[php]</td>\n",
       "    </tr>\n",
       "    <tr>\n",
       "      <th>1</th>\n",
       "      <td>[type, fileaft, frame, load, code, variabl, li...</td>\n",
       "      <td>[r]</td>\n",
       "    </tr>\n",
       "    <tr>\n",
       "      <th>2</th>\n",
       "      <td>[sure, charact, buri, there, find, #, objectsi...</td>\n",
       "      <td>[c#]</td>\n",
       "    </tr>\n",
       "    <tr>\n",
       "      <th>3</th>\n",
       "      <td>[display, warn, help, use, contact, mesageplea...</td>\n",
       "      <td>[api, php]</td>\n",
       "    </tr>\n",
       "    <tr>\n",
       "      <th>4</th>\n",
       "      <td>[figur, sinc, matter, work, window, createhttp...</td>\n",
       "      <td>[c#, asp.net, windows-phone-7]</td>\n",
       "    </tr>\n",
       "    <tr>\n",
       "      <th>...</th>\n",
       "      <td>...</td>\n",
       "      <td>...</td>\n",
       "    </tr>\n",
       "    <tr>\n",
       "      <th>11305</th>\n",
       "      <td>[solutionsmi, drawrect, good, devic, howev, wo...</td>\n",
       "      <td>[iphone]</td>\n",
       "    </tr>\n",
       "    <tr>\n",
       "      <th>11306</th>\n",
       "      <td>[via, u, android, php, task, guy, databas, loc...</td>\n",
       "      <td>[android, php]</td>\n",
       "    </tr>\n",
       "    <tr>\n",
       "      <th>11307</th>\n",
       "      <td>[handler, current, display, fire, label, howev...</td>\n",
       "      <td>[wpf, c#]</td>\n",
       "    </tr>\n",
       "    <tr>\n",
       "      <th>11308</th>\n",
       "      <td>[server, sql, see, condit, statement, like, pr...</td>\n",
       "      <td>[sql, sql-server]</td>\n",
       "    </tr>\n",
       "    <tr>\n",
       "      <th>11309</th>\n",
       "      <td>[email, system, date, entiti, dynam, like, add...</td>\n",
       "      <td>[email]</td>\n",
       "    </tr>\n",
       "  </tbody>\n",
       "</table>\n",
       "<p>11310 rows × 2 columns</p>\n",
       "</div>"
      ],
      "text/plain": [
       "                                                    Text  \\\n",
       "0      [type, png, matter, php, id, jpg, uploadi, eg,...   \n",
       "1      [type, fileaft, frame, load, code, variabl, li...   \n",
       "2      [sure, charact, buri, there, find, #, objectsi...   \n",
       "3      [display, warn, help, use, contact, mesageplea...   \n",
       "4      [figur, sinc, matter, work, window, createhttp...   \n",
       "...                                                  ...   \n",
       "11305  [solutionsmi, drawrect, good, devic, howev, wo...   \n",
       "11306  [via, u, android, php, task, guy, databas, loc...   \n",
       "11307  [handler, current, display, fire, label, howev...   \n",
       "11308  [server, sql, see, condit, statement, like, pr...   \n",
       "11309  [email, system, date, entiti, dynam, like, add...   \n",
       "\n",
       "                                 Tags  \n",
       "0                               [php]  \n",
       "1                                 [r]  \n",
       "2                                [c#]  \n",
       "3                          [api, php]  \n",
       "4      [c#, asp.net, windows-phone-7]  \n",
       "...                               ...  \n",
       "11305                        [iphone]  \n",
       "11306                  [android, php]  \n",
       "11307                       [wpf, c#]  \n",
       "11308               [sql, sql-server]  \n",
       "11309                         [email]  \n",
       "\n",
       "[11310 rows x 2 columns]"
      ]
     },
     "execution_count": 92,
     "metadata": {},
     "output_type": "execute_result"
    }
   ],
   "source": [
    "df"
   ]
  },
  {
   "cell_type": "code",
   "execution_count": 93,
   "id": "68020d1d",
   "metadata": {},
   "outputs": [],
   "source": [
    "df.to_csv('./../data/processed/data.csv',index=False)"
   ]
  },
  {
   "cell_type": "code",
   "execution_count": 64,
   "id": "e356e726",
   "metadata": {},
   "outputs": [],
   "source": [
    "tag_ids = {}\n",
    "\n",
    "for i in range(len(unique_tags)):\n",
    "    tag_ids[unique_tags[i]] = i\n",
    "\n",
    "# df['Tags'] = df['Tags'].progress_apply(lambda x : get_processed_tags(x, tag_ids, n))"
   ]
  },
  {
   "cell_type": "code",
   "execution_count": 65,
   "id": "94702140",
   "metadata": {},
   "outputs": [
    {
     "data": {
      "text/plain": [
       "{'c#': 0,\n",
       " 'java': 1,\n",
       " 'php': 2,\n",
       " 'javascript': 3,\n",
       " 'android': 4,\n",
       " 'jquery': 5,\n",
       " 'c++': 6,\n",
       " 'asp.net': 7,\n",
       " '.net': 8,\n",
       " 'python': 9,\n",
       " 'iphone': 10,\n",
       " 'html': 11,\n",
       " 'mysql': 12,\n",
       " 'sql': 13,\n",
       " 'ios': 14,\n",
       " 'css': 15,\n",
       " 'linux': 16,\n",
       " 'ruby-on-rails': 17,\n",
       " 'objective-c': 18,\n",
       " 'c': 19,\n",
       " 'windows': 20,\n",
       " 'ruby': 21,\n",
       " 'sql-server': 22,\n",
       " 'xml': 23,\n",
       " 'wpf': 24,\n",
       " 'database': 25,\n",
       " 'ajax': 26,\n",
       " 'asp.net-mvc': 27,\n",
       " 'arrays': 28,\n",
       " 'regex': 29,\n",
       " 'xcode': 30,\n",
       " 'windows-7': 31,\n",
       " 'facebook': 32,\n",
       " 'osx': 33,\n",
       " 'performance': 34,\n",
       " 'multithreading': 35,\n",
       " 'networking': 36,\n",
       " 'vb.net': 37,\n",
       " 'eclipse': 38,\n",
       " 'ruby-on-rails-3': 39,\n",
       " 'linq': 40,\n",
       " 'actionscript-3': 41,\n",
       " 'html5': 42,\n",
       " 'django': 43,\n",
       " 'algorithm': 44,\n",
       " 'json': 45,\n",
       " 'visual-studio-2010': 46,\n",
       " 'flash': 47,\n",
       " 'string': 48,\n",
       " 'wcf': 49,\n",
       " 'oracle': 50,\n",
       " 'winforms': 51,\n",
       " 'entity-framework': 52,\n",
       " 'bash': 53,\n",
       " 'sql-server-2008': 54,\n",
       " 'asp.net-mvc-3': 55,\n",
       " 'ubuntu': 56,\n",
       " 'silverlight': 57,\n",
       " 'ipad': 58,\n",
       " 'query': 59,\n",
       " 'email': 60,\n",
       " 'wordpress': 61,\n",
       " 'hibernate': 62,\n",
       " 'image': 63,\n",
       " 'web-services': 64,\n",
       " 'r': 65,\n",
       " 'cocoa-touch': 66,\n",
       " 'git': 67,\n",
       " 'spring': 68,\n",
       " 'visual-studio': 69,\n",
       " 'cocoa': 70,\n",
       " 'apache': 71,\n",
       " 'homework': 72,\n",
       " 'flex': 73,\n",
       " 'calculus': 74,\n",
       " 'apache2': 75,\n",
       " 'real-analysis': 76,\n",
       " 'excel': 77,\n",
       " 'forms': 78,\n",
       " 'codeigniter': 79,\n",
       " '.htaccess': 80,\n",
       " 'tsql': 81,\n",
       " 'events': 82,\n",
       " 'api': 83,\n",
       " 'security': 84,\n",
       " 'http': 85,\n",
       " 'file': 86,\n",
       " 'jquery-ui': 87,\n",
       " 'sql-server-2005': 88,\n",
       " 'windows-phone-7': 89,\n",
       " 'perl': 90,\n",
       " 'tomcat': 91,\n",
       " 'mvc': 92,\n",
       " 'jsp': 93,\n",
       " 'pdf': 94,\n",
       " 'facebook-graph-api': 95,\n",
       " 'sqlite': 96,\n",
       " 'magento': 97,\n",
       " 'firefox': 98,\n",
       " 'iis': 99}"
      ]
     },
     "execution_count": 65,
     "metadata": {},
     "output_type": "execute_result"
    }
   ],
   "source": [
    "tag_ids"
   ]
  },
  {
   "cell_type": "code",
   "execution_count": 36,
   "id": "4f7cc0fb",
   "metadata": {},
   "outputs": [],
   "source": [
    "counter = Counter()\n",
    "_ = df['Text'].apply(counter.update)"
   ]
  },
  {
   "cell_type": "code",
   "execution_count": 37,
   "id": "d45ba2e7",
   "metadata": {},
   "outputs": [],
   "source": [
    "vocab = [item for item in counter]"
   ]
  },
  {
   "cell_type": "code",
   "execution_count": 38,
   "id": "4b69071c",
   "metadata": {},
   "outputs": [
    {
     "data": {
      "text/plain": [
       "35802"
      ]
     },
     "execution_count": 38,
     "metadata": {},
     "output_type": "execute_result"
    }
   ],
   "source": [
    "len(vocab)"
   ]
  },
  {
   "cell_type": "code",
   "execution_count": 39,
   "id": "8f37e95b",
   "metadata": {},
   "outputs": [
    {
     "data": {
      "text/html": [
       "<div>\n",
       "<style scoped>\n",
       "    .dataframe tbody tr th:only-of-type {\n",
       "        vertical-align: middle;\n",
       "    }\n",
       "\n",
       "    .dataframe tbody tr th {\n",
       "        vertical-align: top;\n",
       "    }\n",
       "\n",
       "    .dataframe thead th {\n",
       "        text-align: right;\n",
       "    }\n",
       "</style>\n",
       "<table border=\"1\" class=\"dataframe\">\n",
       "  <thead>\n",
       "    <tr style=\"text-align: right;\">\n",
       "      <th></th>\n",
       "      <th>Text</th>\n",
       "      <th>Tags</th>\n",
       "    </tr>\n",
       "  </thead>\n",
       "  <tbody>\n",
       "    <tr>\n",
       "      <th>0</th>\n",
       "      <td>[type, png, matter, php, id, jpg, uploadi, eg,...</td>\n",
       "      <td>[0, 0, 1, 0, 0, 0, 0, 0, 0, 0, 0, 0, 0, 0, 0, ...</td>\n",
       "    </tr>\n",
       "    <tr>\n",
       "      <th>1</th>\n",
       "      <td>[close, window, still, vim, press, certain, st...</td>\n",
       "      <td>[0, 0, 0, 0, 0, 0, 0, 0, 0, 0, 0, 0, 0, 0, 0, ...</td>\n",
       "    </tr>\n",
       "    <tr>\n",
       "      <th>2</th>\n",
       "      <td>[type, fileaft, frame, load, code, variabl, li...</td>\n",
       "      <td>[0, 0, 0, 0, 0, 0, 0, 0, 0, 0, 0, 0, 0, 0, 0, ...</td>\n",
       "    </tr>\n",
       "    <tr>\n",
       "      <th>3</th>\n",
       "      <td>[sure, charact, buri, there, find, #, objectsi...</td>\n",
       "      <td>[1, 0, 0, 0, 0, 0, 0, 0, 0, 0, 0, 0, 0, 0, 0, ...</td>\n",
       "    </tr>\n",
       "    <tr>\n",
       "      <th>4</th>\n",
       "      <td>[display, warn, help, use, contact, mesageplea...</td>\n",
       "      <td>[0, 0, 1, 0, 0, 0, 0, 0, 0, 0, 0, 0, 0, 0, 0, ...</td>\n",
       "    </tr>\n",
       "    <tr>\n",
       "      <th>...</th>\n",
       "      <td>...</td>\n",
       "      <td>...</td>\n",
       "    </tr>\n",
       "    <tr>\n",
       "      <th>7621</th>\n",
       "      <td>[sure, jsp, byt, figur, especi, display, know,...</td>\n",
       "      <td>[0, 1, 0, 0, 0, 0, 0, 0, 0, 0, 0, 0, 0, 0, 0, ...</td>\n",
       "    </tr>\n",
       "    <tr>\n",
       "      <th>7622</th>\n",
       "      <td>[test, deadlock, sqlcommandexecutenonqueri, ca...</td>\n",
       "      <td>[0, 0, 0, 0, 0, 0, 0, 0, 1, 0, 0, 0, 0, 0, 0, ...</td>\n",
       "    </tr>\n",
       "    <tr>\n",
       "      <th>7623</th>\n",
       "      <td>[view, visibl, click, work, id, last, process,...</td>\n",
       "      <td>[0, 0, 0, 0, 0, 0, 0, 1, 0, 0, 0, 0, 0, 0, 0, ...</td>\n",
       "    </tr>\n",
       "    <tr>\n",
       "      <th>7624</th>\n",
       "      <td>[map, android, code, within, suppos, debug, ap...</td>\n",
       "      <td>[0, 0, 0, 0, 1, 0, 0, 0, 0, 0, 0, 0, 0, 0, 0, ...</td>\n",
       "    </tr>\n",
       "    <tr>\n",
       "      <th>7625</th>\n",
       "      <td>[form, rout, post, submit, rake, tag, use, thi...</td>\n",
       "      <td>[0, 0, 0, 0, 0, 0, 0, 0, 0, 0, 0, 0, 0, 0, 0, ...</td>\n",
       "    </tr>\n",
       "  </tbody>\n",
       "</table>\n",
       "<p>7626 rows × 2 columns</p>\n",
       "</div>"
      ],
      "text/plain": [
       "                                                   Text  \\\n",
       "0     [type, png, matter, php, id, jpg, uploadi, eg,...   \n",
       "1     [close, window, still, vim, press, certain, st...   \n",
       "2     [type, fileaft, frame, load, code, variabl, li...   \n",
       "3     [sure, charact, buri, there, find, #, objectsi...   \n",
       "4     [display, warn, help, use, contact, mesageplea...   \n",
       "...                                                 ...   \n",
       "7621  [sure, jsp, byt, figur, especi, display, know,...   \n",
       "7622  [test, deadlock, sqlcommandexecutenonqueri, ca...   \n",
       "7623  [view, visibl, click, work, id, last, process,...   \n",
       "7624  [map, android, code, within, suppos, debug, ap...   \n",
       "7625  [form, rout, post, submit, rake, tag, use, thi...   \n",
       "\n",
       "                                                   Tags  \n",
       "0     [0, 0, 1, 0, 0, 0, 0, 0, 0, 0, 0, 0, 0, 0, 0, ...  \n",
       "1     [0, 0, 0, 0, 0, 0, 0, 0, 0, 0, 0, 0, 0, 0, 0, ...  \n",
       "2     [0, 0, 0, 0, 0, 0, 0, 0, 0, 0, 0, 0, 0, 0, 0, ...  \n",
       "3     [1, 0, 0, 0, 0, 0, 0, 0, 0, 0, 0, 0, 0, 0, 0, ...  \n",
       "4     [0, 0, 1, 0, 0, 0, 0, 0, 0, 0, 0, 0, 0, 0, 0, ...  \n",
       "...                                                 ...  \n",
       "7621  [0, 1, 0, 0, 0, 0, 0, 0, 0, 0, 0, 0, 0, 0, 0, ...  \n",
       "7622  [0, 0, 0, 0, 0, 0, 0, 0, 1, 0, 0, 0, 0, 0, 0, ...  \n",
       "7623  [0, 0, 0, 0, 0, 0, 0, 1, 0, 0, 0, 0, 0, 0, 0, ...  \n",
       "7624  [0, 0, 0, 0, 1, 0, 0, 0, 0, 0, 0, 0, 0, 0, 0, ...  \n",
       "7625  [0, 0, 0, 0, 0, 0, 0, 0, 0, 0, 0, 0, 0, 0, 0, ...  \n",
       "\n",
       "[7626 rows x 2 columns]"
      ]
     },
     "execution_count": 39,
     "metadata": {},
     "output_type": "execute_result"
    }
   ],
   "source": [
    "df"
   ]
  },
  {
   "cell_type": "code",
   "execution_count": 40,
   "id": "3676790b",
   "metadata": {},
   "outputs": [],
   "source": [
    "df.to_csv('./../data/processed/data.csv',index=False)"
   ]
  },
  {
   "cell_type": "code",
   "execution_count": null,
   "id": "bb51ae2e",
   "metadata": {},
   "outputs": [],
   "source": []
  }
 ],
 "metadata": {
  "kernelspec": {
   "display_name": "Python 3 (ipykernel)",
   "language": "python",
   "name": "python3"
  },
  "language_info": {
   "codemirror_mode": {
    "name": "ipython",
    "version": 3
   },
   "file_extension": ".py",
   "mimetype": "text/x-python",
   "name": "python",
   "nbconvert_exporter": "python",
   "pygments_lexer": "ipython3",
   "version": "3.9.12"
  }
 },
 "nbformat": 4,
 "nbformat_minor": 5
}
