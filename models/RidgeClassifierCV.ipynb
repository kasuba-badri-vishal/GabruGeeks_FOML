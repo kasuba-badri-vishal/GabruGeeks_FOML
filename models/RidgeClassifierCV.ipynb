{
 "cells": [
  {
   "cell_type": "code",
   "execution_count": 8,
   "id": "6ebc9fcf",
   "metadata": {},
   "outputs": [],
   "source": [
    "import pandas as pd\n",
    "\n",
    "from sklearn.feature_extraction.text import CountVectorizer\n",
    "from sklearn.feature_extraction.text import TfidfVectorizer\n",
    "\n",
    "from sklearn.model_selection import train_test_split\n",
    "from sklearn.linear_model import RidgeClassifierCV\n",
    "from sklearn.metrics import classification_report\n",
    "\n",
    "import ast\n",
    "from tqdm import tqdm\n",
    "tqdm.pandas()"
   ]
  },
  {
   "cell_type": "code",
   "execution_count": 2,
   "id": "77c157b1",
   "metadata": {},
   "outputs": [
    {
     "name": "stderr",
     "output_type": "stream",
     "text": [
      "100%|██████████████████████████████████████████████████████████████████████████████████████████████████████████| 3000/3000 [00:00<00:00, 10852.25it/s]\n",
      "100%|██████████████████████████████████████████████████████████████████████████████████████████████████████████| 3000/3000 [00:00<00:00, 78243.18it/s]\n",
      "100%|█████████████████████████████████████████████████████████████████████████████████████████████████████████| 3000/3000 [00:00<00:00, 122984.49it/s]\n",
      "100%|█████████████████████████████████████████████████████████████████████████████████████████████████████████| 3000/3000 [00:00<00:00, 394275.62it/s]\n"
     ]
    }
   ],
   "source": [
    "df = pd.read_csv(\"./../data/processed/data.csv\", nrows=3000)\n",
    "\n",
    "df['Text'] = df['Text'].progress_apply(lambda x : ast.literal_eval(x))\n",
    "df['Tags'] = df['Tags'].progress_apply(lambda x : ast.literal_eval(x))\n",
    "\n",
    "df['Text'] = df['Text'].progress_apply(lambda x : ' '.join(map(str, x)))\n",
    "df['Tags'] = df['Tags'].progress_apply(lambda x : ' '.join(map(str, x)))"
   ]
  },
  {
   "cell_type": "code",
   "execution_count": 3,
   "id": "f9db2a88",
   "metadata": {},
   "outputs": [
    {
     "name": "stderr",
     "output_type": "stream",
     "text": [
      "/home/venkat/BADRI/badrienv/lib/python3.8/site-packages/sklearn/feature_extraction/text.py:489: UserWarning: The parameter 'token_pattern' will not be used since 'tokenizer' is not None'\n",
      "  warnings.warn(\"The parameter 'token_pattern' will not be used\"\n"
     ]
    }
   ],
   "source": [
    "tfidf = TfidfVectorizer()\n",
    "vectorizer = CountVectorizer(tokenizer = lambda x: x.split(), binary='true', min_df=1)\n",
    "vectorizer.fit(df['Tags']) #tags\n",
    "tags_dict = vectorizer.vocabulary_\n",
    "\n",
    "\n",
    "X = tfidf.fit_transform(df['Text']).toarray()\n",
    "y = vectorizer.transform(df['Tags']).toarray()\n",
    "\n",
    "X_train, X_test, y_train, y_test = train_test_split(X,y,test_size=0.2,random_state=42)"
   ]
  },
  {
   "cell_type": "code",
   "execution_count": 9,
   "id": "2e8aeac3",
   "metadata": {},
   "outputs": [],
   "source": [
    "clf = RidgeClassifierCV(alphas=[1e-3, 1e-2, 1e-1, 1]).fit(X_train, y_train)"
   ]
  },
  {
   "cell_type": "code",
   "execution_count": 19,
   "id": "d088ba6d",
   "metadata": {},
   "outputs": [
    {
     "name": "stdout",
     "output_type": "stream",
     "text": [
      "              precision    recall  f1-score   support\n",
      "\n",
      "           0       0.00      0.00      0.00         0\n",
      "           1       0.21      0.18      0.19        17\n",
      "           2       0.00      0.00      0.00         3\n",
      "           3       0.67      0.22      0.33         9\n",
      "           4       0.67      0.29      0.40         7\n",
      "           5       0.73      0.86      0.79        42\n",
      "           6       0.00      0.00      0.00         2\n",
      "           7       0.75      0.60      0.67         5\n",
      "           8       0.00      0.00      0.00         1\n",
      "           9       0.00      0.00      0.00         7\n",
      "          10       0.71      0.42      0.53        24\n",
      "          11       0.67      0.18      0.29        11\n",
      "          12       0.00      0.00      0.00         5\n",
      "          13       1.00      0.25      0.40         4\n",
      "          14       0.33      0.10      0.15        10\n",
      "          15       0.28      0.29      0.28        66\n",
      "          16       0.44      0.35      0.39        23\n",
      "          17       0.00      0.00      0.00         5\n",
      "          18       0.00      0.00      0.00         7\n",
      "          19       1.00      0.33      0.50         3\n",
      "          20       0.54      0.41      0.47        17\n",
      "          21       0.00      0.00      0.00         7\n",
      "          22       0.00      0.00      0.00         1\n",
      "          23       0.00      0.00      0.00         1\n",
      "          24       1.00      0.33      0.50         3\n",
      "          25       0.00      0.00      0.00         6\n",
      "          26       0.50      0.33      0.40         3\n",
      "          27       1.00      0.17      0.29         6\n",
      "          28       0.67      0.67      0.67         3\n",
      "          29       1.00      0.40      0.57        10\n",
      "          30       0.00      0.00      0.00         2\n",
      "          31       0.00      0.00      0.00         3\n",
      "          32       0.00      0.00      0.00         2\n",
      "          33       1.00      0.67      0.80         3\n",
      "          34       0.00      0.00      0.00         6\n",
      "          35       1.00      1.00      1.00         4\n",
      "          36       1.00      0.17      0.29         6\n",
      "          37       0.00      0.00      0.00         3\n",
      "          38       0.42      0.19      0.26        27\n",
      "          39       0.00      0.00      0.00         4\n",
      "          40       0.00      0.00      0.00         2\n",
      "          41       0.00      0.00      0.00         2\n",
      "          42       0.00      0.00      0.00         2\n",
      "          43       0.45      0.38      0.41        24\n",
      "          44       0.00      0.00      0.00         4\n",
      "          45       0.62      0.36      0.45        28\n",
      "          46       0.66      0.62      0.64        64\n",
      "          47       0.51      0.52      0.51        50\n",
      "          48       0.68      0.62      0.65        37\n",
      "          49       0.00      0.00      0.00         0\n",
      "          50       0.00      0.00      0.00         5\n",
      "          51       0.00      0.00      0.00         6\n",
      "          52       0.67      0.27      0.38        15\n",
      "          53       0.00      0.00      0.00         2\n",
      "          54       0.50      0.20      0.29         5\n",
      "          55       0.44      0.44      0.44        16\n",
      "          56       0.75      0.30      0.43        10\n",
      "          57       0.00      0.00      0.00         1\n",
      "          58       0.60      0.11      0.18        28\n",
      "          59       1.00      0.75      0.86         4\n",
      "          60       1.00      0.75      0.86         4\n",
      "          61       0.00      0.00      0.00        10\n",
      "          62       1.00      1.00      1.00         2\n",
      "          63       0.71      0.64      0.67        64\n",
      "          64       0.61      0.58      0.59        19\n",
      "          65       0.00      0.00      0.00         4\n",
      "          66       0.00      0.00      0.00         4\n",
      "          67       0.00      0.00      0.00         2\n",
      "          68       0.75      0.75      0.75         4\n",
      "          69       1.00      0.22      0.36         9\n",
      "          70       0.75      0.60      0.67        10\n",
      "          71       0.00      0.00      0.00         4\n",
      "          72       0.00      0.00      0.00         5\n",
      "          73       0.00      0.00      0.00         3\n",
      "          74       0.00      0.00      0.00         1\n",
      "          75       0.00      0.00      0.00         3\n",
      "          76       0.50      0.29      0.36        21\n",
      "          77       0.60      0.43      0.50         7\n",
      "          78       0.00      0.00      0.00         5\n",
      "          79       0.50      0.50      0.50         2\n",
      "          80       0.00      0.00      0.00         7\n",
      "          81       0.00      0.00      0.00         1\n",
      "          82       0.00      0.00      0.00         2\n",
      "          83       0.00      0.00      0.00         4\n",
      "          84       0.00      0.00      0.00         3\n",
      "          85       0.50      1.00      0.67         1\n",
      "          86       1.00      0.22      0.36         9\n",
      "          87       1.00      0.20      0.33         5\n",
      "          88       0.00      0.00      0.00         7\n",
      "          89       0.80      0.67      0.73         6\n",
      "          90       0.00      0.00      0.00         0\n",
      "          91       0.22      0.17      0.19        12\n",
      "          92       1.00      0.60      0.75         5\n",
      "          93       0.00      0.00      0.00         1\n",
      "          94       0.00      0.00      0.00         1\n",
      "          95       0.00      0.00      0.00         6\n",
      "          96       0.00      0.00      0.00         3\n",
      "          97       0.83      0.45      0.59        11\n",
      "          98       1.00      0.14      0.25         7\n",
      "          99       1.00      0.25      0.40        16\n",
      "\n",
      "   micro avg       0.58      0.36      0.44       963\n",
      "   macro avg       0.37      0.22      0.26       963\n",
      "weighted avg       0.51      0.36      0.40       963\n",
      " samples avg       0.58      0.40      0.46       963\n",
      "\n"
     ]
    },
    {
     "name": "stderr",
     "output_type": "stream",
     "text": [
      "/home/venkat/BADRI/badrienv/lib/python3.8/site-packages/sklearn/metrics/_classification.py:1245: UndefinedMetricWarning: Precision and F-score are ill-defined and being set to 0.0 in labels with no predicted samples. Use `zero_division` parameter to control this behavior.\n",
      "  _warn_prf(average, modifier, msg_start, len(result))\n",
      "/home/venkat/BADRI/badrienv/lib/python3.8/site-packages/sklearn/metrics/_classification.py:1245: UndefinedMetricWarning: Recall and F-score are ill-defined and being set to 0.0 in labels with no true samples. Use `zero_division` parameter to control this behavior.\n",
      "  _warn_prf(average, modifier, msg_start, len(result))\n"
     ]
    }
   ],
   "source": [
    "pred = clf.predict(X_test)\n",
    "\n",
    "y_pred = []\n",
    "for i in pred:\n",
    "    x = np.zeros(100)\n",
    "    x[i] = 1\n",
    "    y_pred.append(list(x))\n",
    "\n",
    "print(classification_report(y_test, y_pred))"
   ]
  }
 ],
 "metadata": {
  "kernelspec": {
   "display_name": "Python 3 (ipykernel)",
   "language": "python",
   "name": "python3"
  },
  "language_info": {
   "codemirror_mode": {
    "name": "ipython",
    "version": 3
   },
   "file_extension": ".py",
   "mimetype": "text/x-python",
   "name": "python",
   "nbconvert_exporter": "python",
   "pygments_lexer": "ipython3",
   "version": "3.8.10"
  }
 },
 "nbformat": 4,
 "nbformat_minor": 5
}
