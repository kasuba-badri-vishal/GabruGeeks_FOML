{
 "cells": [
  {
   "cell_type": "code",
   "execution_count": 1,
   "id": "fc5afcd2",
   "metadata": {},
   "outputs": [],
   "source": [
    "import pandas as pd\n",
    "\n",
    "from sklearn.feature_extraction.text import CountVectorizer\n",
    "from sklearn.feature_extraction.text import TfidfVectorizer\n",
    "\n",
    "from sklearn.model_selection import train_test_split\n",
    "from sklearn.multioutput import MultiOutputClassifier\n",
    "from sklearn.tree import DecisionTreeClassifier\n",
    "from sklearn.metrics import classification_report\n",
    "\n",
    "import ast\n",
    "from tqdm import tqdm\n",
    "tqdm.pandas()"
   ]
  },
  {
   "cell_type": "code",
   "execution_count": 2,
   "id": "1cd7c3d4",
   "metadata": {},
   "outputs": [
    {
     "name": "stderr",
     "output_type": "stream",
     "text": [
      "100%|██████████████████████████████████| 44296/44296 [00:01<00:00, 30600.48it/s]\n",
      "100%|█████████████████████████████████| 44296/44296 [00:00<00:00, 144477.31it/s]\n",
      "100%|█████████████████████████████████| 44296/44296 [00:00<00:00, 377695.92it/s]\n",
      "100%|████████████████████████████████| 44296/44296 [00:00<00:00, 1267280.26it/s]\n"
     ]
    }
   ],
   "source": [
    "\n",
    "df = pd.read_csv(\"./../data/processed/data_10.csv\")\n",
    "\n",
    "df['Text'] = df['Text'].progress_apply(lambda x : ast.literal_eval(x))\n",
    "df['Tags'] = df['Tags'].progress_apply(lambda x : ast.literal_eval(x))\n",
    "\n",
    "df['Text'] = df['Text'].progress_apply(lambda x : ' '.join(map(str, x)))\n",
    "df['Tags'] = df['Tags'].progress_apply(lambda x : ' '.join(map(str, x)))"
   ]
  },
  {
   "cell_type": "code",
   "execution_count": 3,
   "id": "fe09b723",
   "metadata": {},
   "outputs": [
    {
     "name": "stderr",
     "output_type": "stream",
     "text": [
      "/home/venkat/BADRI/badrienv/lib/python3.8/site-packages/sklearn/feature_extraction/text.py:524: UserWarning: The parameter 'token_pattern' will not be used since 'tokenizer' is not None'\n",
      "  warnings.warn(\n"
     ]
    }
   ],
   "source": [
    "vectorizer = CountVectorizer(tokenizer = lambda x: x.split(), binary='true', min_df=1)\n",
    "vectorizer.fit(df['Tags']) #tags\n",
    "\n",
    "y = vectorizer.transform(df['Tags']).toarray()\n",
    "\n",
    "tags_dict = vectorizer.vocabulary_\n",
    "\n",
    "\n",
    "tfidf = TfidfVectorizer()\n",
    "X = tfidf.fit_transform(df['Text']).toarray()\n",
    "X_train, X_test, y_train, y_test = train_test_split(X,y,test_size=0.2,random_state=42)"
   ]
  },
  {
   "cell_type": "code",
   "execution_count": null,
   "id": "7b978486",
   "metadata": {},
   "outputs": [],
   "source": [
    "clf = DecisionTreeClassifier(random_state=1, max_depth=1000).fit(X_train, y_train)"
   ]
  },
  {
   "cell_type": "code",
   "execution_count": null,
   "id": "c6809926",
   "metadata": {},
   "outputs": [],
   "source": [
    "### Random_state = 3\n",
    "\n",
    "y_pred = clf.predict(X_test)\n",
    "print(classification_report(y_test, y_pred))"
   ]
  },
  {
   "cell_type": "code",
   "execution_count": 7,
   "id": "b9defce9",
   "metadata": {},
   "outputs": [
    {
     "name": "stdout",
     "output_type": "stream",
     "text": [
      "              precision    recall  f1-score   support\n",
      "\n",
      "           0       0.80      0.79      0.80      1102\n",
      "           1       0.63      0.55      0.59       592\n",
      "           2       0.49      0.52      0.50      1501\n",
      "           3       0.49      0.46      0.47       644\n",
      "           4       0.68      0.65      0.66       640\n",
      "           5       0.62      0.65      0.64      1319\n",
      "           6       0.57      0.54      0.55      1209\n",
      "           7       0.75      0.71      0.73       995\n",
      "           8       0.73      0.72      0.73      1314\n",
      "           9       0.81      0.76      0.78       636\n",
      "\n",
      "   micro avg       0.65      0.64      0.64      9952\n",
      "   macro avg       0.66      0.63      0.64      9952\n",
      "weighted avg       0.65      0.64      0.64      9952\n",
      " samples avg       0.66      0.65      0.65      9952\n",
      "\n"
     ]
    }
   ],
   "source": [
    "### Random_state = 3\n",
    "\n",
    "y_pred = clf.predict(X_test)\n",
    "print(classification_report(y_test, y_pred))"
   ]
  },
  {
   "cell_type": "code",
   "execution_count": 5,
   "id": "664eedfb",
   "metadata": {
    "scrolled": true
   },
   "outputs": [
    {
     "name": "stdout",
     "output_type": "stream",
     "text": [
      "              precision    recall  f1-score   support\n",
      "\n",
      "           0       0.81      0.79      0.80      1102\n",
      "           1       0.61      0.55      0.58       592\n",
      "           2       0.48      0.52      0.50      1501\n",
      "           3       0.50      0.44      0.47       644\n",
      "           4       0.66      0.66      0.66       640\n",
      "           5       0.62      0.65      0.63      1319\n",
      "           6       0.56      0.54      0.55      1209\n",
      "           7       0.75      0.70      0.72       995\n",
      "           8       0.74      0.73      0.73      1314\n",
      "           9       0.81      0.75      0.78       636\n",
      "\n",
      "   micro avg       0.64      0.64      0.64      9952\n",
      "   macro avg       0.65      0.63      0.64      9952\n",
      "weighted avg       0.65      0.64      0.64      9952\n",
      " samples avg       0.66      0.65      0.64      9952\n",
      "\n"
     ]
    }
   ],
   "source": [
    "### Random_state = 0\n",
    "\n",
    "y_pred = clf.predict(X_test)\n",
    "print(classification_report(y_test, y_pred))"
   ]
  },
  {
   "cell_type": "code",
   "execution_count": null,
   "id": "cebf24ef",
   "metadata": {},
   "outputs": [],
   "source": []
  }
 ],
 "metadata": {
  "kernelspec": {
   "display_name": "Python 3 (ipykernel)",
   "language": "python",
   "name": "python3"
  },
  "language_info": {
   "codemirror_mode": {
    "name": "ipython",
    "version": 3
   },
   "file_extension": ".py",
   "mimetype": "text/x-python",
   "name": "python",
   "nbconvert_exporter": "python",
   "pygments_lexer": "ipython3",
   "version": "3.8.10"
  }
 },
 "nbformat": 4,
 "nbformat_minor": 5
}
