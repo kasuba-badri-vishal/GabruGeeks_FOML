{
 "cells": [
  {
   "cell_type": "code",
   "execution_count": 22,
   "id": "23f4c350",
   "metadata": {},
   "outputs": [],
   "source": [
    "import pandas as pd\n",
    "\n",
    "from sklearn.feature_extraction.text import CountVectorizer\n",
    "from sklearn.feature_extraction.text import TfidfVectorizer\n",
    "\n",
    "from sklearn.model_selection import train_test_split\n",
    "from sklearn.metrics import classification_report\n",
    "\n",
    "from sklearn.multiclass import OneVsRestClassifier\n",
    "from sklearn.linear_model import SGDClassifier\n",
    "from sklearn.linear_model import LogisticRegression\n",
    "\n",
    "import ast\n",
    "from tqdm import tqdm\n",
    "tqdm.pandas()"
   ]
  },
  {
   "cell_type": "code",
   "execution_count": 23,
   "id": "d8d1d686",
   "metadata": {},
   "outputs": [
    {
     "name": "stderr",
     "output_type": "stream",
     "text": [
      "100%|█████████████████████████████████████████████████████████████████████████████████████████████████████████| 44296/44296 [00:08<00:00, 5094.10it/s]\n",
      "100%|████████████████████████████████████████████████████████████████████████████████████████████████████████| 44296/44296 [00:00<00:00, 69700.46it/s]\n",
      "100%|███████████████████████████████████████████████████████████████████████████████████████████████████████| 44296/44296 [00:00<00:00, 326144.04it/s]\n",
      "100%|██████████████████████████████████████████████████████████████████████████████████████████████████████| 44296/44296 [00:00<00:00, 1248796.11it/s]\n"
     ]
    }
   ],
   "source": [
    "df = pd.read_csv(\"./../data/processed/data_10.csv\")\n",
    "\n",
    "df['Text'] = df['Text'].progress_apply(lambda x : ast.literal_eval(x))\n",
    "df['Tags'] = df['Tags'].progress_apply(lambda x : ast.literal_eval(x))\n",
    "\n",
    "df['Text'] = df['Text'].progress_apply(lambda x : ' '.join(map(str, x)))\n",
    "df['Tags'] = df['Tags'].progress_apply(lambda x : ' '.join(map(str, x)))"
   ]
  },
  {
   "cell_type": "code",
   "execution_count": 24,
   "id": "b02b5706",
   "metadata": {},
   "outputs": [
    {
     "name": "stderr",
     "output_type": "stream",
     "text": [
      "/home/venkat/BADRI/badrienv/lib/python3.8/site-packages/sklearn/feature_extraction/text.py:524: UserWarning: The parameter 'token_pattern' will not be used since 'tokenizer' is not None'\n",
      "  warnings.warn(\n"
     ]
    }
   ],
   "source": [
    "tfidf = TfidfVectorizer()\n",
    "vectorizer = CountVectorizer(tokenizer = lambda x: x.split(), binary='true', min_df=1)\n",
    "vectorizer.fit(df['Tags']) #tags\n",
    "tags_dict = vectorizer.vocabulary_\n",
    "\n",
    "y = vectorizer.transform(df['Tags']).toarray()\n",
    "\n",
    "X = tfidf.fit_transform(df['Text']).toarray()\n",
    "X_train, X_test, y_train, y_test = train_test_split(X,y,test_size=0.2,random_state=42)"
   ]
  },
  {
   "cell_type": "code",
   "execution_count": 27,
   "id": "3df727c8",
   "metadata": {},
   "outputs": [],
   "source": [
    "clf = OneVsRestClassifier(SGDClassifier(loss='log_loss', alpha=0.001, penalty='elasticnet'))\n",
    "clf.fit(X_train, y_train)\n",
    "y_pred = clf.predict(X_test)"
   ]
  },
  {
   "cell_type": "code",
   "execution_count": 28,
   "id": "8394dc66",
   "metadata": {},
   "outputs": [
    {
     "name": "stdout",
     "output_type": "stream",
     "text": [
      "              precision    recall  f1-score   support\n",
      "\n",
      "           0       0.97      0.03      0.05      1102\n",
      "           1       0.00      0.00      0.00       592\n",
      "           2       1.00      0.00      0.00      1501\n",
      "           3       0.00      0.00      0.00       644\n",
      "           4       0.00      0.00      0.00       640\n",
      "           5       0.83      0.01      0.02      1319\n",
      "           6       0.87      0.02      0.03      1209\n",
      "           7       1.00      0.03      0.05       995\n",
      "           8       1.00      0.05      0.09      1314\n",
      "           9       1.00      0.00      0.01       636\n",
      "\n",
      "   micro avg       0.96      0.02      0.03      9952\n",
      "   macro avg       0.67      0.01      0.03      9952\n",
      "weighted avg       0.77      0.02      0.03      9952\n",
      " samples avg       0.02      0.02      0.02      9952\n",
      "\n"
     ]
    },
    {
     "name": "stderr",
     "output_type": "stream",
     "text": [
      "/home/venkat/BADRI/badrienv/lib/python3.8/site-packages/sklearn/metrics/_classification.py:1334: UndefinedMetricWarning: Precision and F-score are ill-defined and being set to 0.0 in labels with no predicted samples. Use `zero_division` parameter to control this behavior.\n",
      "  _warn_prf(average, modifier, msg_start, len(result))\n",
      "/home/venkat/BADRI/badrienv/lib/python3.8/site-packages/sklearn/metrics/_classification.py:1334: UndefinedMetricWarning: Precision and F-score are ill-defined and being set to 0.0 in samples with no predicted labels. Use `zero_division` parameter to control this behavior.\n",
      "  _warn_prf(average, modifier, msg_start, len(result))\n"
     ]
    }
   ],
   "source": [
    "#### Alpha Optimal regularized\n",
    "print(classification_report(y_test, y_pred))"
   ]
  },
  {
   "cell_type": "code",
   "execution_count": 21,
   "id": "a4561d45",
   "metadata": {},
   "outputs": [
    {
     "name": "stdout",
     "output_type": "stream",
     "text": [
      "              precision    recall  f1-score   support\n",
      "\n",
      "           0       0.97      0.79      0.87      1102\n",
      "           1       0.83      0.57      0.68       592\n",
      "           2       0.75      0.58      0.65      1501\n",
      "           3       0.87      0.44      0.58       644\n",
      "           4       0.96      0.69      0.81       640\n",
      "           5       0.86      0.68      0.76      1319\n",
      "           6       0.76      0.58      0.66      1209\n",
      "           7       0.90      0.72      0.80       995\n",
      "           8       0.91      0.74      0.82      1314\n",
      "           9       0.97      0.74      0.84       636\n",
      "\n",
      "   micro avg       0.87      0.66      0.75      9952\n",
      "   macro avg       0.88      0.65      0.75      9952\n",
      "weighted avg       0.87      0.66      0.75      9952\n",
      " samples avg       0.68      0.67      0.67      9952\n",
      "\n"
     ]
    },
    {
     "name": "stderr",
     "output_type": "stream",
     "text": [
      "/home/venkat/BADRI/badrienv/lib/python3.8/site-packages/sklearn/metrics/_classification.py:1334: UndefinedMetricWarning: Precision and F-score are ill-defined and being set to 0.0 in samples with no predicted labels. Use `zero_division` parameter to control this behavior.\n",
      "  _warn_prf(average, modifier, msg_start, len(result))\n"
     ]
    }
   ],
   "source": [
    "#### elasticnet regularized\n",
    "print(classification_report(y_test, y_pred))"
   ]
  },
  {
   "cell_type": "code",
   "execution_count": 18,
   "id": "62045855",
   "metadata": {},
   "outputs": [
    {
     "name": "stdout",
     "output_type": "stream",
     "text": [
      "              precision    recall  f1-score   support\n",
      "\n",
      "           0       0.97      0.82      0.89      1102\n",
      "           1       0.78      0.64      0.71       592\n",
      "           2       0.71      0.62      0.67      1501\n",
      "           3       0.82      0.57      0.68       644\n",
      "           4       0.93      0.78      0.85       640\n",
      "           5       0.90      0.66      0.76      1319\n",
      "           6       0.80      0.56      0.66      1209\n",
      "           7       0.88      0.74      0.80       995\n",
      "           8       0.91      0.74      0.82      1314\n",
      "           9       0.97      0.78      0.87       636\n",
      "\n",
      "   micro avg       0.86      0.69      0.76      9952\n",
      "   macro avg       0.87      0.69      0.77      9952\n",
      "weighted avg       0.86      0.69      0.76      9952\n",
      " samples avg       0.71      0.71      0.70      9952\n",
      "\n"
     ]
    },
    {
     "name": "stderr",
     "output_type": "stream",
     "text": [
      "/home/venkat/BADRI/badrienv/lib/python3.8/site-packages/sklearn/metrics/_classification.py:1334: UndefinedMetricWarning: Precision and F-score are ill-defined and being set to 0.0 in samples with no predicted labels. Use `zero_division` parameter to control this behavior.\n",
      "  _warn_prf(average, modifier, msg_start, len(result))\n"
     ]
    }
   ],
   "source": [
    "#### L1 regularized\n",
    "print(classification_report(y_test, y_pred))"
   ]
  },
  {
   "cell_type": "code",
   "execution_count": 16,
   "id": "25b41c8c",
   "metadata": {},
   "outputs": [
    {
     "name": "stdout",
     "output_type": "stream",
     "text": [
      "              precision    recall  f1-score   support\n",
      "\n",
      "           0       0.97      0.78      0.86      1102\n",
      "           1       0.85      0.53      0.65       592\n",
      "           2       0.81      0.45      0.57      1501\n",
      "           3       0.92      0.36      0.51       644\n",
      "           4       0.96      0.71      0.82       640\n",
      "           5       0.91      0.59      0.72      1319\n",
      "           6       0.84      0.48      0.61      1209\n",
      "           7       0.91      0.68      0.77       995\n",
      "           8       0.93      0.65      0.77      1314\n",
      "           9       0.97      0.71      0.82       636\n",
      "\n",
      "   micro avg       0.90      0.59      0.71      9952\n",
      "   macro avg       0.91      0.59      0.71      9952\n",
      "weighted avg       0.90      0.59      0.71      9952\n",
      " samples avg       0.62      0.61      0.61      9952\n",
      "\n"
     ]
    },
    {
     "name": "stderr",
     "output_type": "stream",
     "text": [
      "/home/venkat/BADRI/badrienv/lib/python3.8/site-packages/sklearn/metrics/_classification.py:1334: UndefinedMetricWarning: Precision and F-score are ill-defined and being set to 0.0 in samples with no predicted labels. Use `zero_division` parameter to control this behavior.\n",
      "  _warn_prf(average, modifier, msg_start, len(result))\n"
     ]
    }
   ],
   "source": [
    "\n",
    "#### L2 regularized\n",
    "print(classification_report(y_test, y_pred))"
   ]
  },
  {
   "cell_type": "code",
   "execution_count": null,
   "id": "db9f3d54",
   "metadata": {},
   "outputs": [],
   "source": [
    "10 Tags\n",
    "\n",
    "\"\"\"\n",
    "alpha   precision   Recall   F1 Score\n",
    "0.00001  0.90      0.59      0.71\n",
    "\"\"\""
   ]
  }
 ],
 "metadata": {
  "kernelspec": {
   "display_name": "Python 3 (ipykernel)",
   "language": "python",
   "name": "python3"
  },
  "language_info": {
   "codemirror_mode": {
    "name": "ipython",
    "version": 3
   },
   "file_extension": ".py",
   "mimetype": "text/x-python",
   "name": "python",
   "nbconvert_exporter": "python",
   "pygments_lexer": "ipython3",
   "version": "3.8.10"
  }
 },
 "nbformat": 4,
 "nbformat_minor": 5
}
