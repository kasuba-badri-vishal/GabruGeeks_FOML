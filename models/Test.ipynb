{
 "cells": [
  {
   "cell_type": "code",
   "execution_count": 1,
   "id": "23f4c350",
   "metadata": {},
   "outputs": [],
   "source": [
    "import pandas as pd\n",
    "\n",
    "from sklearn.feature_extraction.text import CountVectorizer\n",
    "from sklearn.feature_extraction.text import TfidfVectorizer\n",
    "\n",
    "from sklearn.model_selection import train_test_split\n",
    "from sklearn.metrics import classification_report\n",
    "\n",
    "from sklearn.multiclass import OneVsRestClassifier\n",
    "from sklearn.linear_model import SGDClassifier\n",
    "from sklearn.linear_model import LogisticRegression\n",
    "\n",
    "import ast\n",
    "from tqdm import tqdm\n",
    "tqdm.pandas()"
   ]
  },
  {
   "cell_type": "code",
   "execution_count": 2,
   "id": "d8d1d686",
   "metadata": {},
   "outputs": [
    {
     "name": "stderr",
     "output_type": "stream",
     "text": [
      "100%|██████████████████████████████████████████████████████████████████████████████████████████████████████████| 3000/3000 [00:00<00:00, 28075.20it/s]\n",
      "100%|█████████████████████████████████████████████████████████████████████████████████████████████████████████| 3000/3000 [00:00<00:00, 181398.84it/s]\n",
      "100%|█████████████████████████████████████████████████████████████████████████████████████████████████████████| 3000/3000 [00:00<00:00, 336567.49it/s]\n",
      "100%|████████████████████████████████████████████████████████████████████████████████████████████████████████| 3000/3000 [00:00<00:00, 1090846.29it/s]\n"
     ]
    }
   ],
   "source": [
    "df = pd.read_csv(\"./../data/processed/data.csv\", nrows=3000)\n",
    "\n",
    "df['Text'] = df['Text'].progress_apply(lambda x : ast.literal_eval(x))\n",
    "df['Tags'] = df['Tags'].progress_apply(lambda x : ast.literal_eval(x))\n",
    "\n",
    "df['Text'] = df['Text'].progress_apply(lambda x : ' '.join(map(str, x)))\n",
    "df['Tags'] = df['Tags'].progress_apply(lambda x : ' '.join(map(str, x)))"
   ]
  },
  {
   "cell_type": "code",
   "execution_count": null,
   "id": "ea4b9839",
   "metadata": {},
   "outputs": [],
   "source": [
    "vectorizer = TfidfVectorizer(min_df=0.00009, max_features=200000, tokenizer = lambda x: x.split(), ngram_range=(1,3))\n",
    "X_train_multilabel = vectorizer.fit_transform(X_train['question'])\n",
    "X_test_multilabel = vectorizer.transform(X_test['question'])\n"
   ]
  },
  {
   "cell_type": "code",
   "execution_count": 3,
   "id": "b02b5706",
   "metadata": {},
   "outputs": [
    {
     "name": "stderr",
     "output_type": "stream",
     "text": [
      "/home/venkat/BADRI/badrienv/lib/python3.8/site-packages/sklearn/feature_extraction/text.py:489: UserWarning: The parameter 'token_pattern' will not be used since 'tokenizer' is not None'\n",
      "  warnings.warn(\"The parameter 'token_pattern' will not be used\"\n"
     ]
    }
   ],
   "source": [
    "tfidf = TfidfVectorizer()\n",
    "vectorizer = CountVectorizer(tokenizer = lambda x: x.split(), binary='true', min_df=1)\n",
    "vectorizer.fit(df['Tags']) #tags\n",
    "tags_dict = vectorizer.vocabulary_\n",
    "\n",
    "y = vectorizer.transform(df['Tags']).toarray()\n",
    "\n",
    "X = tfidf.fit_transform(df['Text']).toarray()\n",
    "X_train, X_test, y_train, y_test = train_test_split(X,y,test_size=0.2,random_state=42)"
   ]
  },
  {
   "cell_type": "code",
   "execution_count": 4,
   "id": "3df727c8",
   "metadata": {},
   "outputs": [],
   "source": [
    "clf = OneVsRestClassifier(SGDClassifier(loss='log', alpha=0.00001, penalty='l2'))\n",
    "clf.fit(X_train, y_train)\n",
    "y_pred = clf.predict(X_test)"
   ]
  },
  {
   "cell_type": "code",
   "execution_count": 5,
   "id": "25b41c8c",
   "metadata": {},
   "outputs": [
    {
     "name": "stdout",
     "output_type": "stream",
     "text": [
      "              precision    recall  f1-score   support\n",
      "\n",
      "           0       0.00      0.00      0.00         0\n",
      "           1       0.17      0.06      0.09        17\n",
      "           2       0.00      0.00      0.00         3\n",
      "           3       0.00      0.00      0.00         9\n",
      "           4       0.00      0.00      0.00         7\n",
      "           5       0.90      0.67      0.77        42\n",
      "           6       0.00      0.00      0.00         2\n",
      "           7       0.00      0.00      0.00         5\n",
      "           8       0.00      0.00      0.00         1\n",
      "           9       0.00      0.00      0.00         7\n",
      "          10       0.67      0.08      0.15        24\n",
      "          11       1.00      0.09      0.17        11\n",
      "          12       0.00      0.00      0.00         5\n",
      "          13       0.00      0.00      0.00         4\n",
      "          14       1.00      0.10      0.18        10\n",
      "          15       0.47      0.12      0.19        66\n",
      "          16       0.00      0.00      0.00        23\n",
      "          17       0.00      0.00      0.00         5\n",
      "          18       0.00      0.00      0.00         7\n",
      "          19       1.00      0.33      0.50         3\n",
      "          20       0.83      0.29      0.43        17\n",
      "          21       0.00      0.00      0.00         7\n",
      "          22       0.00      0.00      0.00         1\n",
      "          23       0.00      0.00      0.00         1\n",
      "          24       0.00      0.00      0.00         3\n",
      "          25       0.00      0.00      0.00         6\n",
      "          26       0.00      0.00      0.00         3\n",
      "          27       0.00      0.00      0.00         6\n",
      "          28       0.00      0.00      0.00         3\n",
      "          29       1.00      0.10      0.18        10\n",
      "          30       0.00      0.00      0.00         2\n",
      "          31       0.00      0.00      0.00         3\n",
      "          32       0.00      0.00      0.00         2\n",
      "          33       0.00      0.00      0.00         3\n",
      "          34       0.00      0.00      0.00         6\n",
      "          35       1.00      0.25      0.40         4\n",
      "          36       1.00      0.17      0.29         6\n",
      "          37       0.00      0.00      0.00         3\n",
      "          38       0.50      0.04      0.07        27\n",
      "          39       0.00      0.00      0.00         4\n",
      "          40       0.00      0.00      0.00         2\n",
      "          41       1.00      0.50      0.67         2\n",
      "          42       0.00      0.00      0.00         2\n",
      "          43       0.75      0.12      0.21        24\n",
      "          44       0.00      0.00      0.00         4\n",
      "          45       0.80      0.14      0.24        28\n",
      "          46       0.93      0.41      0.57        64\n",
      "          47       0.70      0.38      0.49        50\n",
      "          48       0.90      0.49      0.63        37\n",
      "          49       0.00      0.00      0.00         0\n",
      "          50       0.00      0.00      0.00         5\n",
      "          51       0.00      0.00      0.00         6\n",
      "          52       1.00      0.07      0.12        15\n",
      "          53       0.00      0.00      0.00         2\n",
      "          54       0.00      0.00      0.00         5\n",
      "          55       0.75      0.19      0.30        16\n",
      "          56       1.00      0.10      0.18        10\n",
      "          57       0.00      0.00      0.00         1\n",
      "          58       0.00      0.00      0.00        28\n",
      "          59       0.00      0.00      0.00         4\n",
      "          60       0.00      0.00      0.00         4\n",
      "          61       0.00      0.00      0.00        10\n",
      "          62       0.00      0.00      0.00         2\n",
      "          63       0.73      0.42      0.53        64\n",
      "          64       0.86      0.32      0.46        19\n",
      "          65       0.00      0.00      0.00         4\n",
      "          66       0.00      0.00      0.00         4\n",
      "          67       0.00      0.00      0.00         2\n",
      "          68       1.00      0.25      0.40         4\n",
      "          69       0.00      0.00      0.00         9\n",
      "          70       1.00      0.10      0.18        10\n",
      "          71       0.00      0.00      0.00         4\n",
      "          72       0.00      0.00      0.00         5\n",
      "          73       0.00      0.00      0.00         3\n",
      "          74       0.00      0.00      0.00         1\n",
      "          75       0.00      0.00      0.00         3\n",
      "          76       0.00      0.00      0.00        21\n",
      "          77       0.00      0.00      0.00         7\n",
      "          78       0.00      0.00      0.00         5\n",
      "          79       0.00      0.00      0.00         2\n",
      "          80       0.00      0.00      0.00         7\n",
      "          81       0.00      0.00      0.00         1\n",
      "          82       0.00      0.00      0.00         2\n",
      "          83       0.00      0.00      0.00         4\n",
      "          84       0.00      0.00      0.00         3\n",
      "          85       0.00      0.00      0.00         1\n",
      "          86       0.00      0.00      0.00         9\n",
      "          87       0.00      0.00      0.00         5\n",
      "          88       0.00      0.00      0.00         7\n",
      "          89       0.00      0.00      0.00         6\n",
      "          90       0.00      0.00      0.00         0\n",
      "          91       0.00      0.00      0.00        12\n",
      "          92       0.00      0.00      0.00         5\n",
      "          93       0.00      0.00      0.00         1\n",
      "          94       0.00      0.00      0.00         1\n",
      "          95       0.00      0.00      0.00         6\n",
      "          96       0.00      0.00      0.00         3\n",
      "          97       0.00      0.00      0.00        11\n",
      "          98       0.00      0.00      0.00         7\n",
      "          99       0.00      0.00      0.00        16\n",
      "\n",
      "   micro avg       0.76      0.17      0.28       963\n",
      "   macro avg       0.21      0.06      0.08       963\n",
      "weighted avg       0.46      0.17      0.23       963\n",
      " samples avg       0.24      0.18      0.20       963\n",
      "\n"
     ]
    },
    {
     "name": "stderr",
     "output_type": "stream",
     "text": [
      "/home/venkat/BADRI/badrienv/lib/python3.8/site-packages/sklearn/metrics/_classification.py:1245: UndefinedMetricWarning: Precision and F-score are ill-defined and being set to 0.0 in labels with no predicted samples. Use `zero_division` parameter to control this behavior.\n",
      "  _warn_prf(average, modifier, msg_start, len(result))\n",
      "/home/venkat/BADRI/badrienv/lib/python3.8/site-packages/sklearn/metrics/_classification.py:1245: UndefinedMetricWarning: Recall and F-score are ill-defined and being set to 0.0 in labels with no true samples. Use `zero_division` parameter to control this behavior.\n",
      "  _warn_prf(average, modifier, msg_start, len(result))\n",
      "/home/venkat/BADRI/badrienv/lib/python3.8/site-packages/sklearn/metrics/_classification.py:1245: UndefinedMetricWarning: Precision and F-score are ill-defined and being set to 0.0 in samples with no predicted labels. Use `zero_division` parameter to control this behavior.\n",
      "  _warn_prf(average, modifier, msg_start, len(result))\n"
     ]
    }
   ],
   "source": [
    "print(classification_report(y_test, y_pred))"
   ]
  },
  {
   "cell_type": "code",
   "execution_count": null,
   "id": "958c8bc2",
   "metadata": {},
   "outputs": [],
   "source": []
  }
 ],
 "metadata": {
  "kernelspec": {
   "display_name": "Python 3 (ipykernel)",
   "language": "python",
   "name": "python3"
  },
  "language_info": {
   "codemirror_mode": {
    "name": "ipython",
    "version": 3
   },
   "file_extension": ".py",
   "mimetype": "text/x-python",
   "name": "python",
   "nbconvert_exporter": "python",
   "pygments_lexer": "ipython3",
   "version": "3.8.10"
  }
 },
 "nbformat": 4,
 "nbformat_minor": 5
}
