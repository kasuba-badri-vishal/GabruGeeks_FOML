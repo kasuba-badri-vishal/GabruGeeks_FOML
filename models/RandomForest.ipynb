{
 "cells": [
  {
   "cell_type": "code",
   "execution_count": 7,
   "id": "6ebc9fcf",
   "metadata": {},
   "outputs": [],
   "source": [
    "import pandas as pd\n",
    "\n",
    "from sklearn.feature_extraction.text import CountVectorizer\n",
    "from sklearn.feature_extraction.text import TfidfVectorizer\n",
    "\n",
    "from sklearn.model_selection import train_test_split\n",
    "from sklearn.ensemble import RandomForestClassifier\n",
    "from sklearn.metrics import classification_report\n",
    "\n",
    "import ast\n",
    "from tqdm import tqdm\n",
    "tqdm.pandas()"
   ]
  },
  {
   "cell_type": "code",
   "execution_count": 8,
   "id": "77c157b1",
   "metadata": {},
   "outputs": [
    {
     "name": "stderr",
     "output_type": "stream",
     "text": [
      "100%|██████████████████████████████████████████████████████████████████████████████████████████████████████████| 3000/3000 [00:00<00:00, 25631.60it/s]\n",
      "100%|█████████████████████████████████████████████████████████████████████████████████████████████████████████| 3000/3000 [00:00<00:00, 171149.51it/s]\n",
      "100%|█████████████████████████████████████████████████████████████████████████████████████████████████████████| 3000/3000 [00:00<00:00, 273523.73it/s]\n",
      "100%|█████████████████████████████████████████████████████████████████████████████████████████████████████████| 3000/3000 [00:00<00:00, 987204.77it/s]\n"
     ]
    }
   ],
   "source": [
    "df = pd.read_csv(\"./../data/processed/data.csv\", nrows=3000)\n",
    "\n",
    "df['Text'] = df['Text'].progress_apply(lambda x : ast.literal_eval(x))\n",
    "df['Tags'] = df['Tags'].progress_apply(lambda x : ast.literal_eval(x))\n",
    "\n",
    "df['Text'] = df['Text'].progress_apply(lambda x : ' '.join(map(str, x)))\n",
    "df['Tags'] = df['Tags'].progress_apply(lambda x : ' '.join(map(str, x)))"
   ]
  },
  {
   "cell_type": "code",
   "execution_count": 9,
   "id": "f9db2a88",
   "metadata": {},
   "outputs": [
    {
     "name": "stderr",
     "output_type": "stream",
     "text": [
      "/home/venkat/BADRI/badrienv/lib/python3.8/site-packages/sklearn/feature_extraction/text.py:489: UserWarning: The parameter 'token_pattern' will not be used since 'tokenizer' is not None'\n",
      "  warnings.warn(\"The parameter 'token_pattern' will not be used\"\n"
     ]
    }
   ],
   "source": [
    "tfidf = TfidfVectorizer()\n",
    "vectorizer = CountVectorizer(tokenizer = lambda x: x.split(), binary='true', min_df=1)\n",
    "vectorizer.fit(df['Tags']) #tags\n",
    "tags_dict = vectorizer.vocabulary_\n",
    "\n",
    "\n",
    "X = tfidf.fit_transform(df['Text']).toarray()\n",
    "y = vectorizer.transform(df['Tags']).toarray()\n",
    "\n",
    "X_train, X_test, y_train, y_test = train_test_split(X,y,test_size=0.2,random_state=42)"
   ]
  },
  {
   "cell_type": "code",
   "execution_count": 10,
   "id": "2e8aeac3",
   "metadata": {},
   "outputs": [],
   "source": [
    "clf = RandomForestClassifier(max_depth=2, random_state=0).fit(X_train, y_train)"
   ]
  },
  {
   "cell_type": "code",
   "execution_count": 11,
   "id": "d088ba6d",
   "metadata": {},
   "outputs": [
    {
     "name": "stdout",
     "output_type": "stream",
     "text": [
      "              precision    recall  f1-score   support\n",
      "\n",
      "           0       0.00      0.00      0.00         0\n",
      "           1       0.00      0.00      0.00        17\n",
      "           2       0.00      0.00      0.00         3\n",
      "           3       0.00      0.00      0.00         9\n",
      "           4       0.00      0.00      0.00         7\n",
      "           5       0.00      0.00      0.00        42\n",
      "           6       0.00      0.00      0.00         2\n",
      "           7       0.00      0.00      0.00         5\n",
      "           8       0.00      0.00      0.00         1\n",
      "           9       0.00      0.00      0.00         7\n",
      "          10       0.00      0.00      0.00        24\n",
      "          11       0.00      0.00      0.00        11\n",
      "          12       0.00      0.00      0.00         5\n",
      "          13       0.00      0.00      0.00         4\n",
      "          14       0.00      0.00      0.00        10\n",
      "          15       0.00      0.00      0.00        66\n",
      "          16       0.00      0.00      0.00        23\n",
      "          17       0.00      0.00      0.00         5\n",
      "          18       0.00      0.00      0.00         7\n",
      "          19       0.00      0.00      0.00         3\n",
      "          20       0.00      0.00      0.00        17\n",
      "          21       0.00      0.00      0.00         7\n",
      "          22       0.00      0.00      0.00         1\n",
      "          23       0.00      0.00      0.00         1\n",
      "          24       0.00      0.00      0.00         3\n",
      "          25       0.00      0.00      0.00         6\n",
      "          26       0.00      0.00      0.00         3\n",
      "          27       0.00      0.00      0.00         6\n",
      "          28       0.00      0.00      0.00         3\n",
      "          29       0.00      0.00      0.00        10\n",
      "          30       0.00      0.00      0.00         2\n",
      "          31       0.00      0.00      0.00         3\n",
      "          32       0.00      0.00      0.00         2\n",
      "          33       0.00      0.00      0.00         3\n",
      "          34       0.00      0.00      0.00         6\n",
      "          35       0.00      0.00      0.00         4\n",
      "          36       0.00      0.00      0.00         6\n",
      "          37       0.00      0.00      0.00         3\n",
      "          38       0.00      0.00      0.00        27\n",
      "          39       0.00      0.00      0.00         4\n",
      "          40       0.00      0.00      0.00         2\n",
      "          41       0.00      0.00      0.00         2\n",
      "          42       0.00      0.00      0.00         2\n",
      "          43       0.00      0.00      0.00        24\n",
      "          44       0.00      0.00      0.00         4\n",
      "          45       0.00      0.00      0.00        28\n",
      "          46       0.00      0.00      0.00        64\n",
      "          47       0.00      0.00      0.00        50\n",
      "          48       0.00      0.00      0.00        37\n",
      "          49       0.00      0.00      0.00         0\n",
      "          50       0.00      0.00      0.00         5\n",
      "          51       0.00      0.00      0.00         6\n",
      "          52       0.00      0.00      0.00        15\n",
      "          53       0.00      0.00      0.00         2\n",
      "          54       0.00      0.00      0.00         5\n",
      "          55       0.00      0.00      0.00        16\n",
      "          56       0.00      0.00      0.00        10\n",
      "          57       0.00      0.00      0.00         1\n",
      "          58       0.00      0.00      0.00        28\n",
      "          59       0.00      0.00      0.00         4\n",
      "          60       0.00      0.00      0.00         4\n",
      "          61       0.00      0.00      0.00        10\n",
      "          62       0.00      0.00      0.00         2\n",
      "          63       0.00      0.00      0.00        64\n",
      "          64       0.00      0.00      0.00        19\n",
      "          65       0.00      0.00      0.00         4\n",
      "          66       0.00      0.00      0.00         4\n",
      "          67       0.00      0.00      0.00         2\n",
      "          68       0.00      0.00      0.00         4\n",
      "          69       0.00      0.00      0.00         9\n",
      "          70       0.00      0.00      0.00        10\n",
      "          71       0.00      0.00      0.00         4\n",
      "          72       0.00      0.00      0.00         5\n",
      "          73       0.00      0.00      0.00         3\n",
      "          74       0.00      0.00      0.00         1\n",
      "          75       0.00      0.00      0.00         3\n",
      "          76       0.00      0.00      0.00        21\n",
      "          77       0.00      0.00      0.00         7\n",
      "          78       0.00      0.00      0.00         5\n",
      "          79       0.00      0.00      0.00         2\n",
      "          80       0.00      0.00      0.00         7\n",
      "          81       0.00      0.00      0.00         1\n",
      "          82       0.00      0.00      0.00         2\n",
      "          83       0.00      0.00      0.00         4\n",
      "          84       0.00      0.00      0.00         3\n",
      "          85       0.00      0.00      0.00         1\n",
      "          86       0.00      0.00      0.00         9\n",
      "          87       0.00      0.00      0.00         5\n",
      "          88       0.00      0.00      0.00         7\n",
      "          89       0.00      0.00      0.00         6\n",
      "          90       0.00      0.00      0.00         0\n",
      "          91       0.00      0.00      0.00        12\n",
      "          92       0.00      0.00      0.00         5\n",
      "          93       0.00      0.00      0.00         1\n",
      "          94       0.00      0.00      0.00         1\n",
      "          95       0.00      0.00      0.00         6\n",
      "          96       0.00      0.00      0.00         3\n",
      "          97       0.00      0.00      0.00        11\n",
      "          98       0.00      0.00      0.00         7\n",
      "          99       0.00      0.00      0.00        16\n",
      "\n",
      "   micro avg       0.00      0.00      0.00       963\n",
      "   macro avg       0.00      0.00      0.00       963\n",
      "weighted avg       0.00      0.00      0.00       963\n",
      " samples avg       0.00      0.00      0.00       963\n",
      "\n"
     ]
    },
    {
     "name": "stderr",
     "output_type": "stream",
     "text": [
      "/home/venkat/BADRI/badrienv/lib/python3.8/site-packages/sklearn/metrics/_classification.py:1245: UndefinedMetricWarning: Precision and F-score are ill-defined and being set to 0.0 in labels with no predicted samples. Use `zero_division` parameter to control this behavior.\n",
      "  _warn_prf(average, modifier, msg_start, len(result))\n",
      "/home/venkat/BADRI/badrienv/lib/python3.8/site-packages/sklearn/metrics/_classification.py:1245: UndefinedMetricWarning: Recall and F-score are ill-defined and being set to 0.0 in labels with no true samples. Use `zero_division` parameter to control this behavior.\n",
      "  _warn_prf(average, modifier, msg_start, len(result))\n",
      "/home/venkat/BADRI/badrienv/lib/python3.8/site-packages/sklearn/metrics/_classification.py:1245: UndefinedMetricWarning: Precision and F-score are ill-defined and being set to 0.0 due to no predicted samples. Use `zero_division` parameter to control this behavior.\n",
      "  _warn_prf(average, modifier, msg_start, len(result))\n",
      "/home/venkat/BADRI/badrienv/lib/python3.8/site-packages/sklearn/metrics/_classification.py:1245: UndefinedMetricWarning: Precision and F-score are ill-defined and being set to 0.0 in samples with no predicted labels. Use `zero_division` parameter to control this behavior.\n",
      "  _warn_prf(average, modifier, msg_start, len(result))\n"
     ]
    }
   ],
   "source": [
    "y_pred = clf.predict(X_test)\n",
    "print(classification_report(y_test, y_pred))"
   ]
  },
  {
   "cell_type": "code",
   "execution_count": null,
   "id": "320b2339",
   "metadata": {},
   "outputs": [],
   "source": []
  }
 ],
 "metadata": {
  "kernelspec": {
   "display_name": "Python 3 (ipykernel)",
   "language": "python",
   "name": "python3"
  },
  "language_info": {
   "codemirror_mode": {
    "name": "ipython",
    "version": 3
   },
   "file_extension": ".py",
   "mimetype": "text/x-python",
   "name": "python",
   "nbconvert_exporter": "python",
   "pygments_lexer": "ipython3",
   "version": "3.8.10"
  }
 },
 "nbformat": 4,
 "nbformat_minor": 5
}
