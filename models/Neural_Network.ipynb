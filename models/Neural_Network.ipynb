{
 "cells": [
  {
   "cell_type": "code",
   "execution_count": 1,
   "id": "428247e5",
   "metadata": {},
   "outputs": [
    {
     "name": "stderr",
     "output_type": "stream",
     "text": [
      "2022-11-24 07:18:01.861997: I tensorflow/core/platform/cpu_feature_guard.cc:193] This TensorFlow binary is optimized with oneAPI Deep Neural Network Library (oneDNN) to use the following CPU instructions in performance-critical operations:  AVX2 AVX512F FMA\n",
      "To enable them in other operations, rebuild TensorFlow with the appropriate compiler flags.\n",
      "2022-11-24 07:18:03.012608: W tensorflow/stream_executor/platform/default/dso_loader.cc:64] Could not load dynamic library 'libcudart.so.11.0'; dlerror: libcudart.so.11.0: cannot open shared object file: No such file or directory\n",
      "2022-11-24 07:18:03.012644: I tensorflow/stream_executor/cuda/cudart_stub.cc:29] Ignore above cudart dlerror if you do not have a GPU set up on your machine.\n",
      "2022-11-24 07:18:03.115273: E tensorflow/stream_executor/cuda/cuda_blas.cc:2981] Unable to register cuBLAS factory: Attempting to register factory for plugin cuBLAS when one has already been registered\n",
      "2022-11-24 07:18:06.153366: W tensorflow/stream_executor/platform/default/dso_loader.cc:64] Could not load dynamic library 'libnvinfer.so.7'; dlerror: libnvrtc.so.11.1: cannot open shared object file: No such file or directory\n",
      "2022-11-24 07:18:06.165340: W tensorflow/stream_executor/platform/default/dso_loader.cc:64] Could not load dynamic library 'libnvinfer_plugin.so.7'; dlerror: libnvrtc.so.11.1: cannot open shared object file: No such file or directory\n",
      "2022-11-24 07:18:06.165362: W tensorflow/compiler/tf2tensorrt/utils/py_utils.cc:38] TF-TRT Warning: Cannot dlopen some TensorRT libraries. If you would like to use Nvidia GPU with TensorRT, please make sure the missing libraries mentioned above are installed properly.\n"
     ]
    }
   ],
   "source": [
    "import pandas as pd\n",
    "\n",
    "from sklearn.model_selection import RepeatedKFold\n",
    "from keras.models import Sequential\n",
    "from keras.layers import Dense\n",
    "\n",
    "from sklearn.feature_extraction.text import CountVectorizer\n",
    "from sklearn.feature_extraction.text import TfidfVectorizer\n",
    "\n",
    "from sklearn.model_selection import train_test_split\n",
    "from sklearn.metrics import classification_report\n",
    "\n",
    "from sklearn.model_selection import RepeatedKFold\n",
    "from keras.models import Sequential\n",
    "from keras.layers import Dense\n",
    "\n",
    "import ast\n",
    "from tqdm import tqdm\n",
    "tqdm.pandas()"
   ]
  },
  {
   "cell_type": "code",
   "execution_count": 2,
   "id": "be2f51f0",
   "metadata": {},
   "outputs": [
    {
     "name": "stderr",
     "output_type": "stream",
     "text": [
      "100%|██████████████████████████████████| 44296/44296 [00:01<00:00, 30564.64it/s]\n",
      "100%|█████████████████████████████████| 44296/44296 [00:00<00:00, 129427.44it/s]\n",
      "100%|█████████████████████████████████| 44296/44296 [00:00<00:00, 343735.11it/s]\n",
      "100%|████████████████████████████████| 44296/44296 [00:00<00:00, 1191601.24it/s]\n"
     ]
    }
   ],
   "source": [
    "df = pd.read_csv(\"./../data/processed/data_10.csv\")\n",
    "\n",
    "df['Text'] = df['Text'].progress_apply(lambda x : ast.literal_eval(x))\n",
    "df['Tags'] = df['Tags'].progress_apply(lambda x : ast.literal_eval(x))\n",
    "\n",
    "df['Text'] = df['Text'].progress_apply(lambda x : ' '.join(map(str, x)))\n",
    "df['Tags'] = df['Tags'].progress_apply(lambda x : ' '.join(map(str, x)))"
   ]
  },
  {
   "cell_type": "code",
   "execution_count": 67,
   "id": "4289de2e",
   "metadata": {},
   "outputs": [
    {
     "data": {
      "text/plain": [
       "(44296, 2)"
      ]
     },
     "execution_count": 67,
     "metadata": {},
     "output_type": "execute_result"
    }
   ],
   "source": [
    "df.shape"
   ]
  },
  {
   "cell_type": "code",
   "execution_count": 4,
   "id": "ad8e2ec9",
   "metadata": {},
   "outputs": [],
   "source": [
    "# get the model\n",
    "def get_model(n_inputs, n_outputs):\n",
    "    model = Sequential()\n",
    "    model.add(Dense(100, input_dim=n_inputs, kernel_initializer='he_uniform', activation='sigmoid'))\n",
    "#     model.add(Dense(100, input_dim=100, kernel_initializer='he_uniform', activation='relu', ))\n",
    "    model.add(Dense(n_outputs, activation='softmax'))\n",
    "    model.compile(loss='binary_crossentropy', optimizer='adam')\n",
    "    return model"
   ]
  },
  {
   "cell_type": "code",
   "execution_count": 6,
   "id": "68eff9ca",
   "metadata": {},
   "outputs": [],
   "source": [
    "vectorizer = CountVectorizer(tokenizer = lambda x: x.split(), binary='true', min_df=1)\n",
    "vectorizer.fit(df['Tags']) #tags\n",
    "\n",
    "y = vectorizer.transform(df['Tags']).toarray()\n",
    "\n",
    "tags_dict = vectorizer.vocabulary_\n",
    "\n",
    "\n",
    "tfidf = TfidfVectorizer()\n",
    "X = tfidf.fit_transform(df['Text']).toarray()\n",
    "X_train, X_test, y_train, y_test = train_test_split(X,y,test_size=0.2,random_state=42)"
   ]
  },
  {
   "cell_type": "code",
   "execution_count": 7,
   "id": "ef1fb111",
   "metadata": {},
   "outputs": [
    {
     "name": "stderr",
     "output_type": "stream",
     "text": [
      "2022-11-24 07:19:14.409967: W tensorflow/stream_executor/platform/default/dso_loader.cc:64] Could not load dynamic library 'libcudart.so.11.0'; dlerror: libcudart.so.11.0: cannot open shared object file: No such file or directory\n",
      "2022-11-24 07:19:14.485488: W tensorflow/stream_executor/platform/default/dso_loader.cc:64] Could not load dynamic library 'libcufft.so.10'; dlerror: libcufft.so.10: cannot open shared object file: No such file or directory\n",
      "2022-11-24 07:19:14.485582: W tensorflow/stream_executor/platform/default/dso_loader.cc:64] Could not load dynamic library 'libcurand.so.10'; dlerror: libcurand.so.10: cannot open shared object file: No such file or directory\n",
      "2022-11-24 07:19:14.485652: W tensorflow/stream_executor/platform/default/dso_loader.cc:64] Could not load dynamic library 'libcusolver.so.11'; dlerror: libcusolver.so.11: cannot open shared object file: No such file or directory\n",
      "2022-11-24 07:19:14.485717: W tensorflow/stream_executor/platform/default/dso_loader.cc:64] Could not load dynamic library 'libcusparse.so.11'; dlerror: libcusparse.so.11: cannot open shared object file: No such file or directory\n",
      "2022-11-24 07:19:14.485901: W tensorflow/core/common_runtime/gpu/gpu_device.cc:1934] Cannot dlopen some GPU libraries. Please make sure the missing libraries mentioned above are installed properly if you would like to use GPU. Follow the guide at https://www.tensorflow.org/install/gpu for how to download and setup the required libraries for your platform.\n",
      "Skipping registering GPU devices...\n",
      "2022-11-24 07:19:14.487478: I tensorflow/core/platform/cpu_feature_guard.cc:193] This TensorFlow binary is optimized with oneAPI Deep Neural Network Library (oneDNN) to use the following CPU instructions in performance-critical operations:  AVX2 AVX512F FMA\n",
      "To enable them in other operations, rebuild TensorFlow with the appropriate compiler flags.\n",
      "2022-11-24 07:19:19.290484: W tensorflow/core/framework/cpu_allocator_impl.cc:82] Allocation of 9482390112 exceeds 10% of free system memory.\n"
     ]
    },
    {
     "name": "stdout",
     "output_type": "stream",
     "text": [
      " 20/277 [=>............................] - ETA: 1s"
     ]
    },
    {
     "name": "stderr",
     "output_type": "stream",
     "text": [
      "2022-11-24 07:56:12.998715: W tensorflow/core/framework/cpu_allocator_impl.cc:82] Allocation of 2370865120 exceeds 10% of free system memory.\n"
     ]
    },
    {
     "name": "stdout",
     "output_type": "stream",
     "text": [
      "277/277 [==============================] - 2s 6ms/step\n"
     ]
    }
   ],
   "source": [
    "n_inputs, n_outputs = X.shape[1], y.shape[1]\n",
    "\n",
    "model = get_model(n_inputs, n_outputs)\n",
    "# fit model\n",
    "model.fit(X_train, y_train, verbose=0, epochs=100)\n",
    "# make a prediction on the test set\n",
    "yhat = model.predict(X_test)\n",
    "yhat = yhat.round()"
   ]
  },
  {
   "cell_type": "code",
   "execution_count": 8,
   "id": "7659f26c",
   "metadata": {},
   "outputs": [
    {
     "name": "stdout",
     "output_type": "stream",
     "text": [
      "              precision    recall  f1-score   support\n",
      "\n",
      "           0       0.89      0.79      0.84      1102\n",
      "           1       0.67      0.41      0.51       592\n",
      "           2       0.54      0.60      0.57      1501\n",
      "           3       0.68      0.60      0.64       644\n",
      "           4       0.88      0.79      0.84       640\n",
      "           5       0.72      0.66      0.69      1319\n",
      "           6       0.58      0.44      0.50      1209\n",
      "           7       0.77      0.61      0.68       995\n",
      "           8       0.79      0.69      0.74      1314\n",
      "           9       0.86      0.78      0.82       636\n",
      "\n",
      "   micro avg       0.72      0.64      0.67      9952\n",
      "   macro avg       0.74      0.64      0.68      9952\n",
      "weighted avg       0.72      0.64      0.67      9952\n",
      " samples avg       0.71      0.67      0.68      9952\n",
      "\n"
     ]
    },
    {
     "name": "stderr",
     "output_type": "stream",
     "text": [
      "/home/venkat/BADRI/badrienv/lib/python3.8/site-packages/sklearn/metrics/_classification.py:1334: UndefinedMetricWarning: Precision and F-score are ill-defined and being set to 0.0 in samples with no predicted labels. Use `zero_division` parameter to control this behavior.\n",
      "  _warn_prf(average, modifier, msg_start, len(result))\n"
     ]
    }
   ],
   "source": [
    "print(classification_report(y_test, yhat))"
   ]
  },
  {
   "cell_type": "code",
   "execution_count": 18,
   "id": "71b1acbb",
   "metadata": {
    "scrolled": true
   },
   "outputs": [
    {
     "name": "stdout",
     "output_type": "stream",
     "text": [
      "              precision    recall  f1-score   support\n",
      "\n",
      "           0       0.89      0.83      0.86      1102\n",
      "           1       0.72      0.47      0.57       592\n",
      "           2       0.62      0.65      0.63      1501\n",
      "           3       0.69      0.62      0.65       644\n",
      "           4       0.86      0.81      0.83       640\n",
      "           5       0.75      0.71      0.73      1319\n",
      "           6       0.71      0.50      0.58      1209\n",
      "           7       0.81      0.68      0.74       995\n",
      "           8       0.83      0.74      0.79      1314\n",
      "           9       0.90      0.81      0.85       636\n",
      "\n",
      "   micro avg       0.77      0.68      0.72      9952\n",
      "   macro avg       0.78      0.68      0.72      9952\n",
      "weighted avg       0.77      0.68      0.72      9952\n",
      " samples avg       0.77      0.71      0.73      9952\n",
      "\n"
     ]
    },
    {
     "name": "stderr",
     "output_type": "stream",
     "text": [
      "/home/venkat/BADRI/badrienv/lib/python3.8/site-packages/sklearn/metrics/_classification.py:1334: UndefinedMetricWarning: Precision and F-score are ill-defined and being set to 0.0 in samples with no predicted labels. Use `zero_division` parameter to control this behavior.\n",
      "  _warn_prf(average, modifier, msg_start, len(result))\n"
     ]
    }
   ],
   "source": [
    "print(classification_report(y_test, yhat))"
   ]
  },
  {
   "cell_type": "code",
   "execution_count": 7,
   "id": "c226b0e9",
   "metadata": {},
   "outputs": [
    {
     "name": "stdout",
     "output_type": "stream",
     "text": [
      "              precision    recall  f1-score   support\n",
      "\n",
      "           0       0.90      0.82      0.86      1102\n",
      "           1       0.71      0.45      0.55       592\n",
      "           2       0.59      0.65      0.62      1501\n",
      "           3       0.68      0.61      0.65       644\n",
      "           4       0.88      0.82      0.85       640\n",
      "           5       0.76      0.71      0.73      1319\n",
      "           6       0.69      0.50      0.58      1209\n",
      "           7       0.82      0.66      0.73       995\n",
      "           8       0.83      0.74      0.78      1314\n",
      "           9       0.90      0.80      0.85       636\n",
      "\n",
      "   micro avg       0.76      0.68      0.72      9952\n",
      "   macro avg       0.78      0.68      0.72      9952\n",
      "weighted avg       0.77      0.68      0.71      9952\n",
      " samples avg       0.76      0.71      0.73      9952\n",
      "\n"
     ]
    },
    {
     "name": "stderr",
     "output_type": "stream",
     "text": [
      "/home/venkat/BADRI/badrienv/lib/python3.8/site-packages/sklearn/metrics/_classification.py:1334: UndefinedMetricWarning: Precision and F-score are ill-defined and being set to 0.0 in samples with no predicted labels. Use `zero_division` parameter to control this behavior.\n",
      "  _warn_prf(average, modifier, msg_start, len(result))\n"
     ]
    }
   ],
   "source": [
    "# 1 layer, 100 units\n",
    "\n",
    "print(classification_report(y_test, yhat))"
   ]
  },
  {
   "cell_type": "code",
   "execution_count": 11,
   "id": "bc9681fe",
   "metadata": {},
   "outputs": [
    {
     "name": "stdout",
     "output_type": "stream",
     "text": [
      "              precision    recall  f1-score   support\n",
      "\n",
      "           0       0.00      0.00      0.00         0\n",
      "           1       0.10      0.06      0.07        17\n",
      "           2       0.00      0.00      0.00         3\n",
      "           3       0.00      0.00      0.00         9\n",
      "           4       1.00      0.14      0.25         7\n",
      "           5       0.82      0.79      0.80        42\n",
      "           6       0.00      0.00      0.00         2\n",
      "           7       1.00      0.20      0.33         5\n",
      "           8       0.00      0.00      0.00         1\n",
      "           9       0.00      0.00      0.00         7\n",
      "          10       0.60      0.38      0.46        24\n",
      "          11       0.67      0.18      0.29        11\n",
      "          12       0.00      0.00      0.00         5\n",
      "          13       1.00      0.25      0.40         4\n",
      "          14       0.50      0.10      0.17        10\n",
      "          15       0.34      0.29      0.31        66\n",
      "          16       0.40      0.26      0.32        23\n",
      "          17       0.00      0.00      0.00         5\n",
      "          18       0.00      0.00      0.00         7\n",
      "          19       0.00      0.00      0.00         3\n",
      "          20       0.64      0.41      0.50        17\n",
      "          21       0.00      0.00      0.00         7\n",
      "          22       0.00      0.00      0.00         1\n",
      "          23       0.00      0.00      0.00         1\n",
      "          24       1.00      0.33      0.50         3\n",
      "          25       0.00      0.00      0.00         6\n",
      "          26       0.00      0.00      0.00         3\n",
      "          27       1.00      0.17      0.29         6\n",
      "          28       1.00      0.67      0.80         3\n",
      "          29       1.00      0.50      0.67        10\n",
      "          30       0.00      0.00      0.00         2\n",
      "          31       0.00      0.00      0.00         3\n",
      "          32       0.00      0.00      0.00         2\n",
      "          33       1.00      0.33      0.50         3\n",
      "          34       0.00      0.00      0.00         6\n",
      "          35       1.00      1.00      1.00         4\n",
      "          36       0.00      0.00      0.00         6\n",
      "          37       1.00      0.33      0.50         3\n",
      "          38       0.33      0.07      0.12        27\n",
      "          39       0.00      0.00      0.00         4\n",
      "          40       0.00      0.00      0.00         2\n",
      "          41       0.00      0.00      0.00         2\n",
      "          42       0.00      0.00      0.00         2\n",
      "          43       0.53      0.38      0.44        24\n",
      "          44       0.00      0.00      0.00         4\n",
      "          45       0.53      0.29      0.37        28\n",
      "          46       0.63      0.59      0.61        64\n",
      "          47       0.37      0.42      0.39        50\n",
      "          48       0.59      0.54      0.56        37\n",
      "          49       0.00      0.00      0.00         0\n",
      "          50       1.00      0.20      0.33         5\n",
      "          51       0.00      0.00      0.00         6\n",
      "          52       0.33      0.20      0.25        15\n",
      "          53       0.00      0.00      0.00         2\n",
      "          54       0.00      0.00      0.00         5\n",
      "          55       0.56      0.56      0.56        16\n",
      "          56       0.50      0.30      0.37        10\n",
      "          57       0.00      0.00      0.00         1\n",
      "          58       0.00      0.00      0.00        28\n",
      "          59       1.00      0.25      0.40         4\n",
      "          60       0.50      0.25      0.33         4\n",
      "          61       0.50      0.10      0.17        10\n",
      "          62       0.00      0.00      0.00         2\n",
      "          63       0.65      0.52      0.57        64\n",
      "          64       0.50      0.42      0.46        19\n",
      "          65       0.00      0.00      0.00         4\n",
      "          66       0.00      0.00      0.00         4\n",
      "          67       0.00      0.00      0.00         2\n",
      "          68       0.50      0.25      0.33         4\n",
      "          69       1.00      0.11      0.20         9\n",
      "          70       0.67      0.40      0.50        10\n",
      "          71       0.00      0.00      0.00         4\n",
      "          72       0.00      0.00      0.00         5\n",
      "          73       0.00      0.00      0.00         3\n",
      "          74       0.00      0.00      0.00         1\n",
      "          75       0.00      0.00      0.00         3\n",
      "          76       0.78      0.33      0.47        21\n",
      "          77       0.67      0.29      0.40         7\n",
      "          78       0.00      0.00      0.00         5\n",
      "          79       0.00      0.00      0.00         2\n",
      "          80       0.00      0.00      0.00         7\n",
      "          81       0.00      0.00      0.00         1\n",
      "          82       0.00      0.00      0.00         2\n",
      "          83       0.00      0.00      0.00         4\n",
      "          84       0.00      0.00      0.00         3\n",
      "          85       0.50      1.00      0.67         1\n",
      "          86       1.00      0.11      0.20         9\n",
      "          87       0.50      0.20      0.29         5\n",
      "          88       0.00      0.00      0.00         7\n",
      "          89       1.00      0.17      0.29         6\n",
      "          90       0.00      0.00      0.00         0\n",
      "          91       0.40      0.17      0.24        12\n",
      "          92       0.67      0.40      0.50         5\n",
      "          93       0.00      0.00      0.00         1\n",
      "          94       0.00      0.00      0.00         1\n",
      "          95       0.00      0.00      0.00         6\n",
      "          96       0.00      0.00      0.00         3\n",
      "          97       0.80      0.36      0.50        11\n",
      "          98       1.00      0.14      0.25         7\n",
      "          99       0.80      0.25      0.38        16\n",
      "\n",
      "   micro avg       0.55      0.30      0.39       963\n",
      "   macro avg       0.33      0.16      0.19       963\n",
      "weighted avg       0.47      0.30      0.34       963\n",
      " samples avg       0.48      0.34      0.38       963\n",
      "\n"
     ]
    },
    {
     "name": "stderr",
     "output_type": "stream",
     "text": [
      "/home/venkat/BADRI/badrienv/lib/python3.8/site-packages/sklearn/metrics/_classification.py:1334: UndefinedMetricWarning: Precision and F-score are ill-defined and being set to 0.0 in labels with no predicted samples. Use `zero_division` parameter to control this behavior.\n",
      "  _warn_prf(average, modifier, msg_start, len(result))\n",
      "/home/venkat/BADRI/badrienv/lib/python3.8/site-packages/sklearn/metrics/_classification.py:1334: UndefinedMetricWarning: Recall and F-score are ill-defined and being set to 0.0 in labels with no true samples. Use `zero_division` parameter to control this behavior.\n",
      "  _warn_prf(average, modifier, msg_start, len(result))\n",
      "/home/venkat/BADRI/badrienv/lib/python3.8/site-packages/sklearn/metrics/_classification.py:1334: UndefinedMetricWarning: Precision and F-score are ill-defined and being set to 0.0 in samples with no predicted labels. Use `zero_division` parameter to control this behavior.\n",
      "  _warn_prf(average, modifier, msg_start, len(result))\n"
     ]
    }
   ],
   "source": [
    "print(classification_report(y_test, yhat))"
   ]
  },
  {
   "cell_type": "code",
   "execution_count": 6,
   "id": "2a4cdb59",
   "metadata": {},
   "outputs": [
    {
     "name": "stdout",
     "output_type": "stream",
     "text": [
      "              precision    recall  f1-score   support\n",
      "\n",
      "           0       0.83      0.75      0.79        76\n",
      "           1       0.76      0.46      0.57        35\n",
      "           2       0.50      0.55      0.52       103\n",
      "           3       0.55      0.41      0.47        39\n",
      "           4       0.73      0.59      0.66        37\n",
      "           5       0.65      0.63      0.64        86\n",
      "           6       0.71      0.43      0.53        91\n",
      "           7       0.78      0.58      0.67        72\n",
      "           8       0.76      0.72      0.74        90\n",
      "           9       0.81      0.68      0.74        50\n",
      "\n",
      "   micro avg       0.69      0.59      0.64       679\n",
      "   macro avg       0.71      0.58      0.63       679\n",
      "weighted avg       0.70      0.59      0.64       679\n",
      " samples avg       0.67      0.62      0.64       679\n",
      "\n"
     ]
    },
    {
     "name": "stderr",
     "output_type": "stream",
     "text": [
      "/home/venkat/BADRI/badrienv/lib/python3.8/site-packages/sklearn/metrics/_classification.py:1334: UndefinedMetricWarning: Precision and F-score are ill-defined and being set to 0.0 in samples with no predicted labels. Use `zero_division` parameter to control this behavior.\n",
      "  _warn_prf(average, modifier, msg_start, len(result))\n"
     ]
    }
   ],
   "source": [
    "print(classification_report(y_test, yhat))"
   ]
  },
  {
   "cell_type": "code",
   "execution_count": null,
   "id": "97a5bc78",
   "metadata": {},
   "outputs": [],
   "source": []
  }
 ],
 "metadata": {
  "kernelspec": {
   "display_name": "Python 3 (ipykernel)",
   "language": "python",
   "name": "python3"
  },
  "language_info": {
   "codemirror_mode": {
    "name": "ipython",
    "version": 3
   },
   "file_extension": ".py",
   "mimetype": "text/x-python",
   "name": "python",
   "nbconvert_exporter": "python",
   "pygments_lexer": "ipython3",
   "version": "3.8.10"
  }
 },
 "nbformat": 4,
 "nbformat_minor": 5
}
