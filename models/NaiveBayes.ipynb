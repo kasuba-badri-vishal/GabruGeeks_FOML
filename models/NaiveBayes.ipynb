{
 "cells": [
  {
   "cell_type": "code",
   "execution_count": 17,
   "id": "fc5afcd2",
   "metadata": {},
   "outputs": [
    {
     "name": "stderr",
     "output_type": "stream",
     "text": [
      "100%|█████████████████████████████████████████████████████████████████████████████████████████████████████████| 44296/44296 [00:08<00:00, 5023.48it/s]\n",
      "100%|████████████████████████████████████████████████████████████████████████████████████████████████████████| 44296/44296 [00:00<00:00, 53491.88it/s]\n",
      "100%|███████████████████████████████████████████████████████████████████████████████████████████████████████| 44296/44296 [00:00<00:00, 181011.29it/s]\n",
      "100%|██████████████████████████████████████████████████████████████████████████████████████████████████████| 44296/44296 [00:00<00:00, 1188209.99it/s]\n",
      "/home/venkat/BADRI/badrienv/lib/python3.8/site-packages/sklearn/feature_extraction/text.py:524: UserWarning: The parameter 'token_pattern' will not be used since 'tokenizer' is not None'\n",
      "  warnings.warn(\n"
     ]
    }
   ],
   "source": [
    "import pandas as pd\n",
    "\n",
    "from sklearn.feature_extraction.text import CountVectorizer\n",
    "from sklearn.feature_extraction.text import TfidfVectorizer\n",
    "\n",
    "from sklearn.model_selection import train_test_split\n",
    "# from sklearn.naive_bayes import MultinomialNB\n",
    "\n",
    "from skmultilearn.problem_transform import BinaryRelevance\n",
    "from sklearn.naive_bayes import GaussianNB\n",
    "from sklearn.naive_bayes import MultinomialNB\n",
    "from sklearn.multiclass import OneVsRestClassifier\n",
    "\n",
    "from sklearn.metrics import classification_report\n",
    "\n",
    "import ast\n",
    "from tqdm import tqdm\n",
    "tqdm.pandas()\n",
    "\n",
    "\n",
    "df = pd.read_csv(\"./../data/processed/data_10.csv\")\n",
    "\n",
    "df['Text'] = df['Text'].progress_apply(lambda x : ast.literal_eval(x))\n",
    "df['Tags'] = df['Tags'].progress_apply(lambda x : ast.literal_eval(x))\n",
    "\n",
    "df['Text'] = df['Text'].progress_apply(lambda x : ' '.join(map(str, x)))\n",
    "df['Tags'] = df['Tags'].progress_apply(lambda x : ' '.join(map(str, x)))\n",
    "\n",
    "vectorizer = CountVectorizer(tokenizer = lambda x: x.split(), binary='true', min_df=1)\n",
    "vectorizer.fit(df['Tags']) #tags\n",
    "\n",
    "y = vectorizer.transform(df['Tags']).toarray()\n",
    "\n",
    "tags_dict = vectorizer.vocabulary_\n",
    "\n",
    "\n",
    "tfidf = TfidfVectorizer()\n",
    "X = tfidf.fit_transform(df['Text']).toarray()\n",
    "X_train, X_test, y_train, y_test = train_test_split(X,y,test_size=0.2,random_state=42)"
   ]
  },
  {
   "cell_type": "code",
   "execution_count": 18,
   "id": "7b978486",
   "metadata": {},
   "outputs": [
    {
     "data": {
      "text/html": [
       "<style>#sk-container-id-4 {color: black;background-color: white;}#sk-container-id-4 pre{padding: 0;}#sk-container-id-4 div.sk-toggleable {background-color: white;}#sk-container-id-4 label.sk-toggleable__label {cursor: pointer;display: block;width: 100%;margin-bottom: 0;padding: 0.3em;box-sizing: border-box;text-align: center;}#sk-container-id-4 label.sk-toggleable__label-arrow:before {content: \"▸\";float: left;margin-right: 0.25em;color: #696969;}#sk-container-id-4 label.sk-toggleable__label-arrow:hover:before {color: black;}#sk-container-id-4 div.sk-estimator:hover label.sk-toggleable__label-arrow:before {color: black;}#sk-container-id-4 div.sk-toggleable__content {max-height: 0;max-width: 0;overflow: hidden;text-align: left;background-color: #f0f8ff;}#sk-container-id-4 div.sk-toggleable__content pre {margin: 0.2em;color: black;border-radius: 0.25em;background-color: #f0f8ff;}#sk-container-id-4 input.sk-toggleable__control:checked~div.sk-toggleable__content {max-height: 200px;max-width: 100%;overflow: auto;}#sk-container-id-4 input.sk-toggleable__control:checked~label.sk-toggleable__label-arrow:before {content: \"▾\";}#sk-container-id-4 div.sk-estimator input.sk-toggleable__control:checked~label.sk-toggleable__label {background-color: #d4ebff;}#sk-container-id-4 div.sk-label input.sk-toggleable__control:checked~label.sk-toggleable__label {background-color: #d4ebff;}#sk-container-id-4 input.sk-hidden--visually {border: 0;clip: rect(1px 1px 1px 1px);clip: rect(1px, 1px, 1px, 1px);height: 1px;margin: -1px;overflow: hidden;padding: 0;position: absolute;width: 1px;}#sk-container-id-4 div.sk-estimator {font-family: monospace;background-color: #f0f8ff;border: 1px dotted black;border-radius: 0.25em;box-sizing: border-box;margin-bottom: 0.5em;}#sk-container-id-4 div.sk-estimator:hover {background-color: #d4ebff;}#sk-container-id-4 div.sk-parallel-item::after {content: \"\";width: 100%;border-bottom: 1px solid gray;flex-grow: 1;}#sk-container-id-4 div.sk-label:hover label.sk-toggleable__label {background-color: #d4ebff;}#sk-container-id-4 div.sk-serial::before {content: \"\";position: absolute;border-left: 1px solid gray;box-sizing: border-box;top: 0;bottom: 0;left: 50%;z-index: 0;}#sk-container-id-4 div.sk-serial {display: flex;flex-direction: column;align-items: center;background-color: white;padding-right: 0.2em;padding-left: 0.2em;position: relative;}#sk-container-id-4 div.sk-item {position: relative;z-index: 1;}#sk-container-id-4 div.sk-parallel {display: flex;align-items: stretch;justify-content: center;background-color: white;position: relative;}#sk-container-id-4 div.sk-item::before, #sk-container-id-4 div.sk-parallel-item::before {content: \"\";position: absolute;border-left: 1px solid gray;box-sizing: border-box;top: 0;bottom: 0;left: 50%;z-index: -1;}#sk-container-id-4 div.sk-parallel-item {display: flex;flex-direction: column;z-index: 1;position: relative;background-color: white;}#sk-container-id-4 div.sk-parallel-item:first-child::after {align-self: flex-end;width: 50%;}#sk-container-id-4 div.sk-parallel-item:last-child::after {align-self: flex-start;width: 50%;}#sk-container-id-4 div.sk-parallel-item:only-child::after {width: 0;}#sk-container-id-4 div.sk-dashed-wrapped {border: 1px dashed gray;margin: 0 0.4em 0.5em 0.4em;box-sizing: border-box;padding-bottom: 0.4em;background-color: white;}#sk-container-id-4 div.sk-label label {font-family: monospace;font-weight: bold;display: inline-block;line-height: 1.2em;}#sk-container-id-4 div.sk-label-container {text-align: center;}#sk-container-id-4 div.sk-container {/* jupyter's `normalize.less` sets `[hidden] { display: none; }` but bootstrap.min.css set `[hidden] { display: none !important; }` so we also need the `!important` here to be able to override the default hidden behavior on the sphinx rendered scikit-learn.org. See: https://github.com/scikit-learn/scikit-learn/issues/21755 */display: inline-block !important;position: relative;}#sk-container-id-4 div.sk-text-repr-fallback {display: none;}</style><div id=\"sk-container-id-4\" class=\"sk-top-container\"><div class=\"sk-text-repr-fallback\"><pre>OneVsRestClassifier(estimator=GaussianNB())</pre><b>In a Jupyter environment, please rerun this cell to show the HTML representation or trust the notebook. <br />On GitHub, the HTML representation is unable to render, please try loading this page with nbviewer.org.</b></div><div class=\"sk-container\" hidden><div class=\"sk-item sk-dashed-wrapped\"><div class=\"sk-label-container\"><div class=\"sk-label sk-toggleable\"><input class=\"sk-toggleable__control sk-hidden--visually\" id=\"sk-estimator-id-10\" type=\"checkbox\" ><label for=\"sk-estimator-id-10\" class=\"sk-toggleable__label sk-toggleable__label-arrow\">OneVsRestClassifier</label><div class=\"sk-toggleable__content\"><pre>OneVsRestClassifier(estimator=GaussianNB())</pre></div></div></div><div class=\"sk-parallel\"><div class=\"sk-parallel-item\"><div class=\"sk-item\"><div class=\"sk-label-container\"><div class=\"sk-label sk-toggleable\"><input class=\"sk-toggleable__control sk-hidden--visually\" id=\"sk-estimator-id-11\" type=\"checkbox\" ><label for=\"sk-estimator-id-11\" class=\"sk-toggleable__label sk-toggleable__label-arrow\">estimator: GaussianNB</label><div class=\"sk-toggleable__content\"><pre>GaussianNB()</pre></div></div></div><div class=\"sk-serial\"><div class=\"sk-item\"><div class=\"sk-estimator sk-toggleable\"><input class=\"sk-toggleable__control sk-hidden--visually\" id=\"sk-estimator-id-12\" type=\"checkbox\" ><label for=\"sk-estimator-id-12\" class=\"sk-toggleable__label sk-toggleable__label-arrow\">GaussianNB</label><div class=\"sk-toggleable__content\"><pre>GaussianNB()</pre></div></div></div></div></div></div></div></div></div></div>"
      ],
      "text/plain": [
       "OneVsRestClassifier(estimator=GaussianNB())"
      ]
     },
     "execution_count": 18,
     "metadata": {},
     "output_type": "execute_result"
    }
   ],
   "source": [
    "# clf = MultinomialNB().fit(X_train, y_train)\n",
    "\n",
    "classifier = OneVsRestClassifier(GaussianNB())\n",
    "\n",
    "# train\n",
    "classifier.fit(X_train, y_train)"
   ]
  },
  {
   "cell_type": "code",
   "execution_count": 15,
   "id": "5af7611f",
   "metadata": {},
   "outputs": [
    {
     "data": {
      "text/plain": [
       "array([[0, 0, 0, ..., 0, 0, 1],\n",
       "       [0, 0, 0, ..., 0, 0, 0],\n",
       "       [0, 1, 0, ..., 0, 0, 0],\n",
       "       ...,\n",
       "       [0, 0, 0, ..., 0, 0, 1],\n",
       "       [0, 0, 1, ..., 0, 0, 0],\n",
       "       [1, 0, 0, ..., 0, 0, 0]])"
      ]
     },
     "execution_count": 15,
     "metadata": {},
     "output_type": "execute_result"
    }
   ],
   "source": [
    "y_test"
   ]
  },
  {
   "cell_type": "code",
   "execution_count": 14,
   "id": "98837b67",
   "metadata": {},
   "outputs": [
    {
     "name": "stdout",
     "output_type": "stream",
     "text": [
      "              precision    recall  f1-score   support\n",
      "\n",
      "           0       0.88      0.01      0.03      1102\n",
      "           1       0.00      0.00      0.00       592\n",
      "           2       0.71      0.00      0.01      1501\n",
      "           3       0.00      0.00      0.00       644\n",
      "           4       0.80      0.01      0.01       640\n",
      "           5       0.94      0.01      0.02      1319\n",
      "           6       0.33      0.00      0.00      1209\n",
      "           7       0.00      0.00      0.00       995\n",
      "           8       0.73      0.01      0.01      1314\n",
      "           9       0.00      0.00      0.00       636\n",
      "\n",
      "   micro avg       0.72      0.00      0.01      9952\n",
      "   macro avg       0.44      0.00      0.01      9952\n",
      "weighted avg       0.52      0.00      0.01      9952\n",
      " samples avg       0.01      0.01      0.01      9952\n",
      "\n"
     ]
    },
    {
     "name": "stderr",
     "output_type": "stream",
     "text": [
      "/home/venkat/BADRI/badrienv/lib/python3.8/site-packages/sklearn/metrics/_classification.py:1334: UndefinedMetricWarning: Precision and F-score are ill-defined and being set to 0.0 in samples with no predicted labels. Use `zero_division` parameter to control this behavior.\n",
      "  _warn_prf(average, modifier, msg_start, len(result))\n"
     ]
    }
   ],
   "source": [
    "### MultinomialNB\n",
    "\n",
    "y_pred = classifier.predict(X_test)\n",
    "print(classification_report(y_test, y_pred))"
   ]
  },
  {
   "cell_type": "code",
   "execution_count": 11,
   "id": "8a657435",
   "metadata": {},
   "outputs": [
    {
     "name": "stdout",
     "output_type": "stream",
     "text": [
      "              precision    recall  f1-score   support\n",
      "\n",
      "           0       0.25      0.59      0.35      1102\n",
      "           1       0.12      0.42      0.19       592\n",
      "           2       0.25      0.60      0.35      1501\n",
      "           3       0.15      0.45      0.23       644\n",
      "           4       0.19      0.54      0.28       640\n",
      "           5       0.21      0.55      0.31      1319\n",
      "           6       0.21      0.54      0.30      1209\n",
      "           7       0.23      0.53      0.32       995\n",
      "           8       0.24      0.56      0.33      1314\n",
      "           9       0.12      0.40      0.19       636\n",
      "\n",
      "   micro avg       0.21      0.54      0.30      9952\n",
      "   macro avg       0.20      0.52      0.29      9952\n",
      "weighted avg       0.21      0.54      0.30      9952\n",
      " samples avg       0.27      0.54      0.31      9952\n",
      "\n"
     ]
    },
    {
     "name": "stderr",
     "output_type": "stream",
     "text": [
      "/home/venkat/BADRI/badrienv/lib/python3.8/site-packages/sklearn/metrics/_classification.py:1334: UndefinedMetricWarning: Precision and F-score are ill-defined and being set to 0.0 in samples with no predicted labels. Use `zero_division` parameter to control this behavior.\n",
      "  _warn_prf(average, modifier, msg_start, len(result))\n"
     ]
    }
   ],
   "source": [
    "### GaussianNB\n",
    "\n",
    "y_pred = classifier.predict(X_test)\n",
    "print(classification_report(y_test, y_pred))"
   ]
  },
  {
   "cell_type": "code",
   "execution_count": 5,
   "id": "664eedfb",
   "metadata": {},
   "outputs": [
    {
     "name": "stdout",
     "output_type": "stream",
     "text": [
      "              precision    recall  f1-score   support\n",
      "\n",
      "           0       0.00      0.00      0.00         0\n",
      "           1       0.06      0.06      0.06        17\n",
      "           2       0.00      0.00      0.00         3\n",
      "           3       0.14      0.22      0.17         9\n",
      "           4       0.33      0.43      0.38         7\n",
      "           5       0.67      0.74      0.70        42\n",
      "           6       0.00      0.00      0.00         2\n",
      "           7       0.50      0.40      0.44         5\n",
      "           8       0.00      0.00      0.00         1\n",
      "           9       1.00      0.29      0.44         7\n",
      "          10       0.50      0.33      0.40        24\n",
      "          11       0.73      0.73      0.73        11\n",
      "          12       0.20      0.20      0.20         5\n",
      "          13       0.50      0.50      0.50         4\n",
      "          14       0.00      0.00      0.00        10\n",
      "          15       0.28      0.20      0.23        66\n",
      "          16       0.19      0.39      0.25        23\n",
      "          17       0.00      0.00      0.00         5\n",
      "          18       0.00      0.00      0.00         7\n",
      "          19       0.33      0.33      0.33         3\n",
      "          20       0.28      0.29      0.29        17\n",
      "          21       0.40      0.29      0.33         7\n",
      "          22       0.00      0.00      0.00         1\n",
      "          23       0.00      0.00      0.00         1\n",
      "          24       0.40      0.67      0.50         3\n",
      "          25       0.50      0.50      0.50         6\n",
      "          26       0.00      0.00      0.00         3\n",
      "          27       0.75      0.50      0.60         6\n",
      "          28       1.00      0.33      0.50         3\n",
      "          29       0.50      0.30      0.37        10\n",
      "          30       1.00      0.50      0.67         2\n",
      "          31       0.00      0.00      0.00         3\n",
      "          32       0.00      0.00      0.00         2\n",
      "          33       0.00      0.00      0.00         3\n",
      "          34       0.00      0.00      0.00         6\n",
      "          35       1.00      1.00      1.00         4\n",
      "          36       0.33      0.33      0.33         6\n",
      "          37       0.50      0.33      0.40         3\n",
      "          38       0.28      0.26      0.27        27\n",
      "          39       0.00      0.00      0.00         4\n",
      "          40       0.00      0.00      0.00         2\n",
      "          41       0.12      0.50      0.20         2\n",
      "          42       0.33      0.50      0.40         2\n",
      "          43       0.44      0.17      0.24        24\n",
      "          44       0.00      0.00      0.00         4\n",
      "          45       0.43      0.32      0.37        28\n",
      "          46       0.53      0.53      0.53        64\n",
      "          47       0.39      0.44      0.42        50\n",
      "          48       0.48      0.65      0.55        37\n",
      "          49       0.00      0.00      0.00         0\n",
      "          50       0.00      0.00      0.00         5\n",
      "          51       0.20      0.17      0.18         6\n",
      "          52       0.17      0.07      0.10        15\n",
      "          53       0.00      0.00      0.00         2\n",
      "          54       0.20      0.20      0.20         5\n",
      "          55       0.42      0.69      0.52        16\n",
      "          56       0.67      0.20      0.31        10\n",
      "          57       0.00      0.00      0.00         1\n",
      "          58       0.14      0.04      0.06        28\n",
      "          59       0.38      0.75      0.50         4\n",
      "          60       0.50      0.50      0.50         4\n",
      "          61       0.00      0.00      0.00        10\n",
      "          62       0.00      0.00      0.00         2\n",
      "          63       0.57      0.48      0.53        64\n",
      "          64       0.60      0.47      0.53        19\n",
      "          65       0.00      0.00      0.00         4\n",
      "          66       0.00      0.00      0.00         4\n",
      "          67       0.00      0.00      0.00         2\n",
      "          68       0.25      0.25      0.25         4\n",
      "          69       0.60      0.33      0.43         9\n",
      "          70       0.55      0.60      0.57        10\n",
      "          71       0.25      0.25      0.25         4\n",
      "          72       0.00      0.00      0.00         5\n",
      "          73       1.00      0.33      0.50         3\n",
      "          74       0.00      0.00      0.00         1\n",
      "          75       0.67      0.67      0.67         3\n",
      "          76       0.18      0.10      0.12        21\n",
      "          77       0.27      0.43      0.33         7\n",
      "          78       0.00      0.00      0.00         5\n",
      "          79       0.00      0.00      0.00         2\n",
      "          80       0.29      0.29      0.29         7\n",
      "          81       0.00      0.00      0.00         1\n",
      "          82       0.00      0.00      0.00         2\n",
      "          83       0.00      0.00      0.00         4\n",
      "          84       1.00      0.67      0.80         3\n",
      "          85       0.25      1.00      0.40         1\n",
      "          86       0.29      0.22      0.25         9\n",
      "          87       0.33      0.20      0.25         5\n",
      "          88       0.25      0.14      0.18         7\n",
      "          89       0.75      0.50      0.60         6\n",
      "          90       0.00      0.00      0.00         0\n",
      "          91       0.40      0.33      0.36        12\n",
      "          92       0.00      0.00      0.00         5\n",
      "          93       0.00      0.00      0.00         1\n",
      "          94       0.00      0.00      0.00         1\n",
      "          95       0.00      0.00      0.00         6\n",
      "          96       0.67      0.67      0.67         3\n",
      "          97       0.50      0.64      0.56        11\n",
      "          98       0.50      0.14      0.22         7\n",
      "          99       0.50      0.19      0.27        16\n",
      "\n",
      "   micro avg       0.37      0.33      0.35       963\n",
      "   macro avg       0.28      0.25      0.25       963\n",
      "weighted avg       0.38      0.33      0.34       963\n",
      " samples avg       0.41      0.37      0.36       963\n",
      "\n"
     ]
    },
    {
     "name": "stderr",
     "output_type": "stream",
     "text": [
      "/home/venkat/BADRI/badrienv/lib/python3.8/site-packages/sklearn/metrics/_classification.py:1245: UndefinedMetricWarning: Precision and F-score are ill-defined and being set to 0.0 in labels with no predicted samples. Use `zero_division` parameter to control this behavior.\n",
      "  _warn_prf(average, modifier, msg_start, len(result))\n",
      "/home/venkat/BADRI/badrienv/lib/python3.8/site-packages/sklearn/metrics/_classification.py:1245: UndefinedMetricWarning: Recall and F-score are ill-defined and being set to 0.0 in labels with no true samples. Use `zero_division` parameter to control this behavior.\n",
      "  _warn_prf(average, modifier, msg_start, len(result))\n"
     ]
    }
   ],
   "source": [
    "y_pred = classifier.predict(X_test)\n",
    "print(classification_report(y_test, y_pred))"
   ]
  }
 ],
 "metadata": {
  "kernelspec": {
   "display_name": "Python 3 (ipykernel)",
   "language": "python",
   "name": "python3"
  },
  "language_info": {
   "codemirror_mode": {
    "name": "ipython",
    "version": 3
   },
   "file_extension": ".py",
   "mimetype": "text/x-python",
   "name": "python",
   "nbconvert_exporter": "python",
   "pygments_lexer": "ipython3",
   "version": "3.8.10"
  }
 },
 "nbformat": 4,
 "nbformat_minor": 5
}
