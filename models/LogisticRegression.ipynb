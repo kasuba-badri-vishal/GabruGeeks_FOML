{
 "cells": [
  {
   "cell_type": "code",
   "execution_count": null,
   "id": "5c302814",
   "metadata": {},
   "outputs": [
    {
     "name": "stderr",
     "output_type": "stream",
     "text": [
      "100%|████████████████████████████████████████████████████████████████████████████████████████████████████████| 75364/75364 [00:02<00:00, 26278.16it/s]\n",
      "100%|███████████████████████████████████████████████████████████████████████████████████████████████████████| 75364/75364 [00:00<00:00, 139240.34it/s]\n",
      "100%|███████████████████████████████████████████████████████████████████████████████████████████████████████| 75364/75364 [00:00<00:00, 328977.00it/s]\n",
      "100%|██████████████████████████████████████████████████████████████████████████████████████████████████████| 75364/75364 [00:00<00:00, 1117796.82it/s]\n",
      "/home/venkat/BADRI/badrienv/lib/python3.8/site-packages/sklearn/feature_extraction/text.py:524: UserWarning: The parameter 'token_pattern' will not be used since 'tokenizer' is not None'\n",
      "  warnings.warn(\n"
     ]
    }
   ],
   "source": [
    "import pandas as pd\n",
    "\n",
    "from sklearn.feature_extraction.text import CountVectorizer\n",
    "from sklearn.feature_extraction.text import TfidfVectorizer\n",
    "\n",
    "from sklearn.model_selection import train_test_split\n",
    "from sklearn.multioutput import MultiOutputClassifier\n",
    "from sklearn.linear_model import LogisticRegression\n",
    "from sklearn.linear_model import Perceptron\n",
    "from sklearn.metrics import classification_report\n",
    "\n",
    "import ast\n",
    "from tqdm import tqdm\n",
    "tqdm.pandas()\n",
    "\n",
    "\n",
    "df = pd.read_csv(\"./../data/processed/data.csv\")\n",
    "\n",
    "df['Text'] = df['Text'].progress_apply(lambda x : ast.literal_eval(x))\n",
    "df['Tags'] = df['Tags'].progress_apply(lambda x : ast.literal_eval(x))\n",
    "\n",
    "df['Text'] = df['Text'].progress_apply(lambda x : ' '.join(map(str, x)))\n",
    "df['Tags'] = df['Tags'].progress_apply(lambda x : ' '.join(map(str, x)))\n",
    "\n",
    "vectorizer = CountVectorizer(tokenizer = lambda x: x.split(), binary='true', min_df=1)\n",
    "vectorizer.fit(df['Tags']) #tags\n",
    "\n",
    "y = vectorizer.transform(df['Tags']).toarray()\n",
    "\n",
    "tags_dict = vectorizer.vocabulary_\n",
    "\n",
    "\n",
    "tfidf = TfidfVectorizer()\n",
    "X = tfidf.fit_transform(df['Text']).toarray()\n",
    "X_train, X_test, y_train, y_test = train_test_split(X,y,test_size=0.2,random_state=42)"
   ]
  },
  {
   "cell_type": "code",
   "execution_count": null,
   "id": "dc1a4593",
   "metadata": {},
   "outputs": [],
   "source": [
    "clf = MultiOutputClassifier(Perceptron()).fit(X_train, y_train)"
   ]
  },
  {
   "cell_type": "code",
   "execution_count": null,
   "id": "2eabb4e0",
   "metadata": {},
   "outputs": [],
   "source": [
    "### For 100 Tags\n",
    "\n",
    "y_pred = clf.predict(X_test)\n",
    "print(classification_report(y_test, y_pred))"
   ]
  },
  {
   "cell_type": "code",
   "execution_count": null,
   "id": "914ccdee",
   "metadata": {},
   "outputs": [],
   "source": [
    "### For 10 Tags Perceptron\n",
    "\n",
    "y_pred = clf.predict(X_test)\n",
    "print(classification_report(y_test, y_pred))"
   ]
  },
  {
   "cell_type": "code",
   "execution_count": 7,
   "id": "446cf54a",
   "metadata": {},
   "outputs": [
    {
     "name": "stdout",
     "output_type": "stream",
     "text": [
      "              precision    recall  f1-score   support\n",
      "\n",
      "           0       0.98      0.73      0.84      1102\n",
      "           1       0.89      0.44      0.59       592\n",
      "           2       0.83      0.38      0.52      1501\n",
      "           3       0.89      0.33      0.48       644\n",
      "           4       0.98      0.54      0.70       640\n",
      "           5       0.91      0.55      0.69      1319\n",
      "           6       0.84      0.43      0.57      1209\n",
      "           7       0.91      0.67      0.77       995\n",
      "           8       0.92      0.65      0.76      1314\n",
      "           9       0.97      0.66      0.78       636\n",
      "\n",
      "   micro avg       0.91      0.54      0.68      9952\n",
      "   macro avg       0.91      0.54      0.67      9952\n",
      "weighted avg       0.91      0.54      0.67      9952\n",
      " samples avg       0.57      0.56      0.56      9952\n",
      "\n"
     ]
    },
    {
     "name": "stderr",
     "output_type": "stream",
     "text": [
      "/home/venkat/BADRI/badrienv/lib/python3.8/site-packages/sklearn/metrics/_classification.py:1334: UndefinedMetricWarning: Precision and F-score are ill-defined and being set to 0.0 in samples with no predicted labels. Use `zero_division` parameter to control this behavior.\n",
      "  _warn_prf(average, modifier, msg_start, len(result))\n"
     ]
    }
   ],
   "source": [
    "### For 10 Tags\n",
    "\n",
    "y_pred = clf.predict(X_test)\n",
    "print(classification_report(y_test, y_pred))"
   ]
  },
  {
   "cell_type": "code",
   "execution_count": null,
   "id": "6538636c",
   "metadata": {},
   "outputs": [],
   "source": []
  }
 ],
 "metadata": {
  "kernelspec": {
   "display_name": "Python 3 (ipykernel)",
   "language": "python",
   "name": "python3"
  },
  "language_info": {
   "codemirror_mode": {
    "name": "ipython",
    "version": 3
   },
   "file_extension": ".py",
   "mimetype": "text/x-python",
   "name": "python",
   "nbconvert_exporter": "python",
   "pygments_lexer": "ipython3",
   "version": "3.8.10"
  }
 },
 "nbformat": 4,
 "nbformat_minor": 5
}
