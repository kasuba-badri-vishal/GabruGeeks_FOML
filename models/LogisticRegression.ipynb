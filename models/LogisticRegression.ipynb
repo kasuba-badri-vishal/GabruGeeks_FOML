{
 "cells": [
  {
   "cell_type": "code",
   "execution_count": 4,
   "id": "5c302814",
   "metadata": {},
   "outputs": [],
   "source": [
    "import pandas as pd\n",
    "\n",
    "from sklearn.feature_extraction.text import CountVectorizer\n",
    "from sklearn.feature_extraction.text import TfidfVectorizer\n",
    "\n",
    "from sklearn.model_selection import train_test_split\n",
    "from sklearn.multioutput import MultiOutputClassifier\n",
    "from sklearn.linear_model import LogisticRegression\n",
    "from sklearn.metrics import classification_report\n",
    "\n",
    "import ast\n",
    "from tqdm import tqdm\n",
    "tqdm.pandas()"
   ]
  },
  {
   "cell_type": "code",
   "execution_count": 2,
   "id": "621f9e00",
   "metadata": {},
   "outputs": [
    {
     "name": "stderr",
     "output_type": "stream",
     "text": [
      "100%|██████████████████████████████████████████████████████████████████████████████████████████████████████████| 3000/3000 [00:00<00:00, 27819.71it/s]\n",
      "100%|██████████████████████████████████████████████████████████████████████████████████████████████████████████| 3000/3000 [00:00<00:00, 87410.47it/s]\n",
      "100%|██████████████████████████████████████████████████████████████████████████████████████████████████████████| 3000/3000 [00:00<00:00, 95275.29it/s]\n",
      "100%|█████████████████████████████████████████████████████████████████████████████████████████████████████████| 3000/3000 [00:00<00:00, 750546.50it/s]\n"
     ]
    }
   ],
   "source": [
    "\n",
    "df = pd.read_csv(\"./../data/processed/data.csv\", nrows=3000)\n",
    "\n",
    "df['Text'] = df['Text'].progress_apply(lambda x : ast.literal_eval(x))\n",
    "df['Tags'] = df['Tags'].progress_apply(lambda x : ast.literal_eval(x))\n",
    "\n",
    "df['Text'] = df['Text'].progress_apply(lambda x : ' '.join(map(str, x)))\n",
    "df['Tags'] = df['Tags'].progress_apply(lambda x : ' '.join(map(str, x)))"
   ]
  },
  {
   "cell_type": "code",
   "execution_count": 3,
   "id": "f6c91a80",
   "metadata": {},
   "outputs": [
    {
     "name": "stderr",
     "output_type": "stream",
     "text": [
      "/home/venkat/BADRI/badrienv/lib/python3.8/site-packages/sklearn/feature_extraction/text.py:489: UserWarning: The parameter 'token_pattern' will not be used since 'tokenizer' is not None'\n",
      "  warnings.warn(\"The parameter 'token_pattern' will not be used\"\n"
     ]
    }
   ],
   "source": [
    "vectorizer = CountVectorizer(tokenizer = lambda x: x.split(), binary='true', min_df=1)\n",
    "vectorizer.fit(df['Tags']) #tags\n",
    "\n",
    "y = vectorizer.transform(df['Tags']).toarray()\n",
    "\n",
    "tags_dict = vectorizer.vocabulary_\n",
    "\n",
    "\n",
    "tfidf = TfidfVectorizer()\n",
    "X = tfidf.fit_transform(df['Text']).toarray()\n",
    "X_train, X_test, y_train, y_test = train_test_split(X,y,test_size=0.2,random_state=42)"
   ]
  },
  {
   "cell_type": "code",
   "execution_count": null,
   "id": "dc1a4593",
   "metadata": {},
   "outputs": [],
   "source": [
    "clf = MultiOutputClassifier(LogisticRegression()).fit(X_train, y_train)"
   ]
  },
  {
   "cell_type": "code",
   "execution_count": null,
   "id": "446cf54a",
   "metadata": {},
   "outputs": [],
   "source": [
    "y_pred = clf.predict(X_test)\n",
    "print(classification_report(y_test, y_pred))"
   ]
  }
 ],
 "metadata": {
  "kernelspec": {
   "display_name": "Python 3 (ipykernel)",
   "language": "python",
   "name": "python3"
  },
  "language_info": {
   "codemirror_mode": {
    "name": "ipython",
    "version": 3
   },
   "file_extension": ".py",
   "mimetype": "text/x-python",
   "name": "python",
   "nbconvert_exporter": "python",
   "pygments_lexer": "ipython3",
   "version": "3.8.10"
  }
 },
 "nbformat": 4,
 "nbformat_minor": 5
}
